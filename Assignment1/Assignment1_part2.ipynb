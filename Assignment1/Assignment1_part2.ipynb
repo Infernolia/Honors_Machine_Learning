{
  "nbformat": 4,
  "nbformat_minor": 0,
  "metadata": {
    "colab": {
      "name": "Assignment1_part2.ipynb",
      "provenance": [],
      "collapsed_sections": []
    },
    "kernelspec": {
      "name": "python3",
      "display_name": "Python 3"
    },
    "language_info": {
      "name": "python"
    }
  },
  "cells": [
    {
      "cell_type": "markdown",
      "metadata": {
        "id": "ceurdVz05RPm"
      },
      "source": [
        "<center>\n",
        "<h1>Machine Learning Laboratory</h1> \n",
        "<h2>(410302)</h2>\n",
        "<h3>BE Sem I Honors in AI/ML</h3>\n",
        "<h3>Academic Year: 2021-22</h3>\n",
        "<h3>Lab Assignment No.1 Part 2 </h3></center>"
      ]
    },
    {
      "cell_type": "markdown",
      "metadata": {
        "id": "7wQ4fJn_5RBX"
      },
      "source": [
        "<h3><font color=\"purple\">\n",
        "Name: Aboli Marathe<BR>\n",
        "Roll Number: 41301<BR>\n",
        "Branch: Department of Computer Engineering\n",
        "</font>\n",
        "</h3>"
      ]
    },
    {
      "cell_type": "markdown",
      "metadata": {
        "id": "BoYyplyO5fYB"
      },
      "source": [
        "1. Write a function find_max that accepts three numbers as arguments and returns the largest number among three. Write another function main, in main () function accept three numbers from user and call find_max.  \n"
      ]
    },
    {
      "cell_type": "code",
      "metadata": {
        "colab": {
          "base_uri": "https://localhost:8080/"
        },
        "id": "2qHkcIt86TaB",
        "outputId": "d1af4a2f-4cbc-4680-96d4-63ba3e876133"
      },
      "source": [
        "def find_max(x, y, z):\n",
        "    if x > y and x > z:\n",
        "        return x\n",
        "    elif y > z:\n",
        "        return y\n",
        "    else:\n",
        "        return z\n",
        "\n",
        "def main():\n",
        "    num1 = int(input('Enter the first number:'))\n",
        "    num2 = int(input('Enter the second number:'))\n",
        "    num3 = int(input('Enter the third number:'))\n",
        "    maximum = find_max(num1,num2,num3)\n",
        "    print('The largest number is', maximum)\n",
        "\n",
        "main()"
      ],
      "execution_count": 1,
      "outputs": [
        {
          "output_type": "stream",
          "name": "stdout",
          "text": [
            "Enter first number 5\n",
            "Enter second number 3\n",
            "Enter third number 2\n",
            "The largest number is 5\n"
          ]
        }
      ]
    },
    {
      "cell_type": "markdown",
      "metadata": {
        "id": "NvQch89T55Gl"
      },
      "source": [
        "2. Write a function, is_vowel that returns the value true if a given character is a vowel, and otherwise returns false. Write another function main, in main () function accept a string from user and count number of vowels in that string.  \n"
      ]
    },
    {
      "cell_type": "code",
      "metadata": {
        "colab": {
          "base_uri": "https://localhost:8080/"
        },
        "id": "zRPyQdAw6TxN",
        "outputId": "724f4d3e-d381-4b74-f56f-184cef8a2c61"
      },
      "source": [
        "def is_vowel(l):\n",
        "    if l in ['a','e','i','o','u','A','E','I','O','U']:\n",
        "        return True\n",
        "    else:\n",
        "        return False\n",
        "\n",
        "def main():\n",
        "    counter = 0\n",
        "    text = input('Enter a string: ')\n",
        "    for ch in text:\n",
        "        if(is_vowel(ch)):\n",
        "            counter += 1\n",
        "\n",
        "    print('Number of vowels are', counter)\n",
        "\n",
        "main()"
      ],
      "execution_count": 2,
      "outputs": [
        {
          "output_type": "stream",
          "name": "stdout",
          "text": [
            "Enter a text: Aboli\n",
            "Number of vowels are 3\n"
          ]
        }
      ]
    },
    {
      "cell_type": "markdown",
      "metadata": {
        "id": "yv0FIqqB55vD"
      },
      "source": [
        "3. Write a function named is_prime, which takes an integer as an argument and returns true if the argument is a prime number, or false otherwise. Also, write the main function that displays prime numbers between 1 to 500.  \n",
        "\n"
      ]
    },
    {
      "cell_type": "code",
      "metadata": {
        "colab": {
          "base_uri": "https://localhost:8080/"
        },
        "id": "9nX4SPpy6UNH",
        "outputId": "137e877d-b7d8-4bf2-ab95-88852c1eac51"
      },
      "source": [
        "def is_prime(num):\n",
        "    for i in range(2,num):\n",
        "        if num%i == 0:\n",
        "            return False\n",
        "    return True\n",
        "\n",
        "def main():\n",
        "    for val in range(2,501):\n",
        "        if is_prime(val):\n",
        "            print(val)\n",
        "\n",
        "main()"
      ],
      "execution_count": 3,
      "outputs": [
        {
          "output_type": "stream",
          "name": "stdout",
          "text": [
            "2\n",
            "3\n",
            "5\n",
            "7\n",
            "11\n",
            "13\n",
            "17\n",
            "19\n",
            "23\n",
            "29\n",
            "31\n",
            "37\n",
            "41\n",
            "43\n",
            "47\n",
            "53\n",
            "59\n",
            "61\n",
            "67\n",
            "71\n",
            "73\n",
            "79\n",
            "83\n",
            "89\n",
            "97\n",
            "101\n",
            "103\n",
            "107\n",
            "109\n",
            "113\n",
            "127\n",
            "131\n",
            "137\n",
            "139\n",
            "149\n",
            "151\n",
            "157\n",
            "163\n",
            "167\n",
            "173\n",
            "179\n",
            "181\n",
            "191\n",
            "193\n",
            "197\n",
            "199\n",
            "211\n",
            "223\n",
            "227\n",
            "229\n",
            "233\n",
            "239\n",
            "241\n",
            "251\n",
            "257\n",
            "263\n",
            "269\n",
            "271\n",
            "277\n",
            "281\n",
            "283\n",
            "293\n",
            "307\n",
            "311\n",
            "313\n",
            "317\n",
            "331\n",
            "337\n",
            "347\n",
            "349\n",
            "353\n",
            "359\n",
            "367\n",
            "373\n",
            "379\n",
            "383\n",
            "389\n",
            "397\n",
            "401\n",
            "409\n",
            "419\n",
            "421\n",
            "431\n",
            "433\n",
            "439\n",
            "443\n",
            "449\n",
            "457\n",
            "461\n",
            "463\n",
            "467\n",
            "479\n",
            "487\n",
            "491\n",
            "499\n"
          ]
        }
      ]
    },
    {
      "cell_type": "markdown",
      "metadata": {
        "id": "k65Q72hr56Gf"
      },
      "source": [
        "4. Write a function in python to find the sum of the cube of elements in a list. The list is received as an argument to the function, in turn, the function must return the sum. Write the main function which invokes the above function.  \n"
      ]
    },
    {
      "cell_type": "code",
      "metadata": {
        "colab": {
          "base_uri": "https://localhost:8080/"
        },
        "id": "LyqYNQ0H6Uqn",
        "outputId": "b9b6e7da-16fd-4892-e479-e8304b34754e"
      },
      "source": [
        "def cubesum(vals):\n",
        "    cubetotal = 0\n",
        "    for val in vals:\n",
        "        cubetotal += val**3\n",
        "    return cubetotal\n",
        "\n",
        "def main():\n",
        "    nums = [1,2,3,4]\n",
        "    sum = cubesum(nums)\n",
        "    print(sum)\n",
        "\n",
        "main()"
      ],
      "execution_count": 4,
      "outputs": [
        {
          "output_type": "stream",
          "name": "stdout",
          "text": [
            "100\n"
          ]
        }
      ]
    },
    {
      "cell_type": "markdown",
      "metadata": {
        "id": "NhHLLms556bm"
      },
      "source": [
        "5. Write the definition of a function zero_ending(scores) to add all those values in the list of scores, which are ending with zero and display the sum.\n",
        "For example: If the scores contain [200, 456, 300, 100, 234, 678] The sum should be displayed as 600.  \n"
      ]
    },
    {
      "cell_type": "code",
      "metadata": {
        "colab": {
          "base_uri": "https://localhost:8080/"
        },
        "id": "QyVatCca6VM6",
        "outputId": "f55ca441-6452-41d5-d4c1-0abe4a9d13c2"
      },
      "source": [
        "def zero_ending(scores):\n",
        "    sum = 0\n",
        "    for num in scores:\n",
        "        if num%10 == 0:\n",
        "            sum += num\n",
        "    return sum\n",
        "\n",
        "scores =  [200, 456, 300, 100, 234, 678]\n",
        "total = zero_ending(scores)\n",
        "print(total)"
      ],
      "execution_count": 5,
      "outputs": [
        {
          "output_type": "stream",
          "name": "stdout",
          "text": [
            "600\n"
          ]
        }
      ]
    },
    {
      "cell_type": "markdown",
      "metadata": {
        "id": "BPOJobE156yh"
      },
      "source": [
        "6. Write a definition of a method count_now(places) to find and display those place names, in which there are more than 5 characters.\n",
        "For example:\n",
        "If the list places contain\n",
        "[\"DELHI\",\"LONDON\",\"PARIS\",\"NEW YORK\",\"DUBAI\"]\n",
        "The following should get displayed:\n",
        "LONDON\n",
        "NEW YORK  \n"
      ]
    },
    {
      "cell_type": "code",
      "metadata": {
        "colab": {
          "base_uri": "https://localhost:8080/"
        },
        "id": "EvaIY1dM6WY-",
        "outputId": "5c62c582-07a5-4b41-fa6a-9a2ab7aef8d3"
      },
      "source": [
        "def count_now(places):\n",
        "    for place in places:\n",
        "        if len(place) > 5:\n",
        "            print(place)\n",
        "\n",
        "places = [\"DELHI\",\"LONDON\",\"PARIS\",\"NEW YORK\",\"DUBAI\"]\n",
        "count_now(places)"
      ],
      "execution_count": 6,
      "outputs": [
        {
          "output_type": "stream",
          "name": "stdout",
          "text": [
            "LONDON\n",
            "NEW YORK\n"
          ]
        }
      ]
    },
    {
      "cell_type": "markdown",
      "metadata": {
        "id": "UpmTPb0L57L6"
      },
      "source": [
        "7. Write a method in python to display the elements of list thrice if it is a number and display the element terminated with ‘#’ if it is not a number.\n",
        "For example, if the content of list is as follows:\n",
        "ThisList= [‘41’, ‘DROND’, ‘GIRIRAJ’, ‘13’, ‘ZARA’]\n",
        "The output should be\n",
        "414141\n",
        "DROND#\n",
        "GIRIRAJ#\n",
        "131313\n",
        "ZARA#  \n"
      ]
    },
    {
      "cell_type": "code",
      "metadata": {
        "colab": {
          "base_uri": "https://localhost:8080/"
        },
        "id": "jWW4rWui6Wud",
        "outputId": "f3918d37-bf2f-4b72-8432-92adc69d76ac"
      },
      "source": [
        "def parselist(l):\n",
        "    for cur in l:\n",
        "        if cur.isdigit():\n",
        "            print(cur*3)\n",
        "        else:\n",
        "            print(cur+'#')\n",
        "\n",
        "list1 = ['41','DROND','GIRIRAJ', '13','ZARA']\n",
        "parselist(list1)"
      ],
      "execution_count": 7,
      "outputs": [
        {
          "output_type": "stream",
          "name": "stdout",
          "text": [
            "414141\n",
            "DROND#\n",
            "GIRIRAJ#\n",
            "131313\n",
            "ZARA#\n"
          ]
        }
      ]
    },
    {
      "cell_type": "markdown",
      "metadata": {
        "id": "J2fABjDl57d-"
      },
      "source": [
        "8. For a given list of values in descending order, write a method in python to search for a value with the help of Binary Search method. The method should return position of the value and should return -1 if the value not present in the list.  \n",
        " "
      ]
    },
    {
      "cell_type": "code",
      "metadata": {
        "colab": {
          "base_uri": "https://localhost:8080/"
        },
        "id": "dgYUbpbA6XHM",
        "outputId": "797abc34-e485-426c-d630-cd232ce8c185"
      },
      "source": [
        "def binary_search(items, item):\n",
        "    first = 0\n",
        "    last = len(items)-1\n",
        "    while(first<=last):\n",
        "        mid = (first+last)//2\n",
        "        if items[mid]==item:\n",
        "            return mid\n",
        "        elif items[mid]>item:\n",
        "            first=mid+1\n",
        "        else:\n",
        "            last=mid-1\n",
        "    return -1\n",
        "\n",
        "\n",
        "l = [64,10,53,12,6,34,99]\n",
        "index = binary_search(l,2)\n",
        "if index == -1:\n",
        "    print('Element not found')\n",
        "else:\n",
        "    print('Element found at position',index+1)"
      ],
      "execution_count": 11,
      "outputs": [
        {
          "output_type": "stream",
          "name": "stdout",
          "text": [
            "Element not found\n"
          ]
        }
      ]
    },
    {
      "cell_type": "code",
      "metadata": {
        "colab": {
          "base_uri": "https://localhost:8080/"
        },
        "id": "86uArRUZ-w1r",
        "outputId": "f1efbb1d-9ae7-4c0f-c339-cd59f1359acf"
      },
      "source": [
        "index = binary_search(l,64)\n",
        "if index == -1:\n",
        "    print('Element not found')\n",
        "else:\n",
        "    print('Element found at position',index+1)"
      ],
      "execution_count": 13,
      "outputs": [
        {
          "output_type": "stream",
          "name": "stdout",
          "text": [
            "Element found at position 1\n"
          ]
        }
      ]
    },
    {
      "cell_type": "markdown",
      "metadata": {
        "id": "4SSUnWca6Lo2"
      },
      "source": [
        "9. Write a function half_and_half that takes in a list and change the list such that the elements of the second half are now in the first half.\n",
        "For example, if the size of list is even and content of list is as follows :\n",
        "my_liist = [10,20,30,40,50,60]\n",
        "The output should be\n",
        "[40,50,60,10,20,30]\n",
        "if the size of list is odd and content of list is as follows :\n",
        "my_liist = [10,20,30,40,50,60,70]\n",
        "The output should be\n",
        "[50,60,70,40,10,20,30]  \n"
      ]
    },
    {
      "cell_type": "code",
      "metadata": {
        "colab": {
          "base_uri": "https://localhost:8080/"
        },
        "id": "JKYqGfxK6Xc4",
        "outputId": "54beb59d-7f5c-4b34-a3d5-a28f91a76c33"
      },
      "source": [
        "def half_and_half(templist):\n",
        "    if len(templist)%2 == 0:\n",
        "        start = 0\n",
        "    else:\n",
        "        start = 1\n",
        "        \n",
        "    L = len(templist)//2\n",
        "    \n",
        "    for i in range(L):\n",
        "        temp = templist[i]\n",
        "        templist[i] = templist[i+L+start]\n",
        "        templist[i+L+start] = temp\n",
        "\n",
        "l = [10,20,30,40,50,60,70]\n",
        "half_and_half(l)\n",
        "print(l)"
      ],
      "execution_count": 14,
      "outputs": [
        {
          "output_type": "stream",
          "name": "stdout",
          "text": [
            "[50, 60, 70, 40, 10, 20, 30]\n"
          ]
        }
      ]
    },
    {
      "cell_type": "markdown",
      "metadata": {
        "id": "3Wsz2t2v6NoS"
      },
      "source": [
        "10. Write a function that accepts a dictionary as an argument. If the dictionary contains replicate values, return an empty dictionary, otherwise, return a new dictionary whose values are now the keys and whose keys are the values. "
      ]
    },
    {
      "cell_type": "code",
      "metadata": {
        "colab": {
          "base_uri": "https://localhost:8080/"
        },
        "id": "T9Ro6inB6X09",
        "outputId": "39507edd-9e1e-4c39-a6e3-5da3a0c0c9be"
      },
      "source": [
        "def swapping(d):\n",
        "    L = list(d.values())\n",
        "    for value in L:\n",
        "        if L.count(value) > 1:\n",
        "            return dict()\n",
        "\n",
        "    new_dict = {}\n",
        "    for k, v in d.items():\n",
        "        new_dict[v] = k\n",
        "    return new_dict\n",
        "\n",
        "\n",
        "d = {'a':1,'a2':2,'a3':3}\n",
        "print(d)\n",
        "n = swapping(d)\n",
        "print(n)\n",
        "\n",
        "d = {'a':1,'a2':2,'a3':3}\n",
        "print(d)\n",
        "n = swapping(d)\n",
        "print(n)"
      ],
      "execution_count": 15,
      "outputs": [
        {
          "output_type": "stream",
          "name": "stdout",
          "text": [
            "{'a': 1, 'a2': 2, 'a3': 3}\n",
            "{1: 'a', 2: 'a2', 3: 'a3'}\n",
            "{'a': 1, 'a2': 2, 'a3': 3}\n",
            "{1: 'a', 2: 'a2', 3: 'a3'}\n"
          ]
        }
      ]
    },
    {
      "cell_type": "code",
      "metadata": {
        "id": "t3fHdT1KADZa"
      },
      "source": [
        ""
      ],
      "execution_count": null,
      "outputs": []
    }
  ]
}