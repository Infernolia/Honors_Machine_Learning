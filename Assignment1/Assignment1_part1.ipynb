{
  "nbformat": 4,
  "nbformat_minor": 0,
  "metadata": {
    "colab": {
      "name": "Assignment1.ipynb",
      "provenance": [],
      "collapsed_sections": []
    },
    "kernelspec": {
      "name": "python3",
      "display_name": "Python 3"
    },
    "language_info": {
      "name": "python"
    }
  },
  "cells": [
    {
      "cell_type": "markdown",
      "metadata": {
        "id": "Ekw6Ah3rGRFN"
      },
      "source": [
        "<center>\n",
        "<h1>Machine Learning Laboratory</h1> \n",
        "<h2>(410302)</h2>\n",
        "<h3>BE Sem I Honors in AI/ML</h3>\n",
        "<h3>Academic Year: 2021-22</h3>\n",
        "<h3>Lab Assignment No.1 </h3></center>\n"
      ]
    },
    {
      "cell_type": "markdown",
      "metadata": {
        "id": "FkXWqlfZGz4t"
      },
      "source": [
        "<h3><font color=\"purple\">\n",
        "Name: Aboli Marathe<BR>\n",
        "Roll Number: 41301<BR>\n",
        "Branch: Department of Computer Engineering\n",
        "</font>\n",
        "</h3>"
      ]
    },
    {
      "cell_type": "markdown",
      "metadata": {
        "id": "vKVJgi-4Hw2E"
      },
      "source": [
        "<h3><B>Lab Exercise 1</B></h3>"
      ]
    },
    {
      "cell_type": "markdown",
      "metadata": {
        "id": "vK5z09tzH_Ru"
      },
      "source": [
        "Q.1 Write a program that asks the user for his name and then welcomes him. The output should look like this:<BR>\n",
        "Enter your name: Saksham<BR>\n",
        "Hello Saksham<BR>\n"
      ]
    },
    {
      "cell_type": "code",
      "metadata": {
        "colab": {
          "base_uri": "https://localhost:8080/"
        },
        "id": "pmckOan_Hwdq",
        "outputId": "bf86466d-2eb9-4e5c-b8ca-f2ac9726a5e7"
      },
      "source": [
        "name = input(\"Enter your name: \")\n",
        "print(\"Hello \" + name)"
      ],
      "execution_count": null,
      "outputs": [
        {
          "output_type": "stream",
          "name": "stdout",
          "text": [
            "Enter your name: Saksham\n",
            "Hello Saksham\n"
          ]
        }
      ]
    },
    {
      "cell_type": "markdown",
      "metadata": {
        "id": "1VRmNRnBIouX"
      },
      "source": [
        "Q.2 Write a program that prompts the user to enter two integers and display the total on the screen. "
      ]
    },
    {
      "cell_type": "code",
      "metadata": {
        "colab": {
          "base_uri": "https://localhost:8080/"
        },
        "id": "9GzdE-jrGzPs",
        "outputId": "ba3b0fd9-a8f3-4284-8bb6-71266719523c"
      },
      "source": [
        "val1 = float(input(\"Enter the first number: \"))\n",
        "val2 = float(input(\"Enter the second number: \"))\n",
        "print(\"The total is \" + str(val1+val2))"
      ],
      "execution_count": null,
      "outputs": [
        {
          "output_type": "stream",
          "name": "stdout",
          "text": [
            "Enter the first number: 1\n",
            "Enter the second number: 2\n",
            "The total is 3.0\n"
          ]
        }
      ]
    },
    {
      "cell_type": "markdown",
      "metadata": {
        "id": "tGm_S5J2JALA"
      },
      "source": [
        "Q.3 Write a program that prompts the user to input a Celsius temperature and outputs the equivalent temperature in Fahrenheit. The formula to convert the temperature is: F = 9/5 C + 32 where F is the Fahrenheit temperature and C is the Celsius temperature.  "
      ]
    },
    {
      "cell_type": "code",
      "metadata": {
        "colab": {
          "base_uri": "https://localhost:8080/"
        },
        "id": "hL3AUKCSI_bq",
        "outputId": "de73e02a-81c6-4991-9160-f0f1e332d3fd"
      },
      "source": [
        "celcius = float(input(\"Enter the temperature in Celsius: \"))\n",
        "fahrenheit = 9/5*celcius + 32\n",
        "print(\"The equivalent temperature in Fahrenheit is: \" + str(fahrenheit))"
      ],
      "execution_count": null,
      "outputs": [
        {
          "output_type": "stream",
          "name": "stdout",
          "text": [
            "Enter the temperature in Celsius: 31.5\n",
            "The equivalent temperature in Fahrenheit is: 88.7\n"
          ]
        }
      ]
    },
    {
      "cell_type": "markdown",
      "metadata": {
        "id": "NyvElTP0LQWC"
      },
      "source": [
        "Q.4 Write a program which accept principle, rate and time from user and print the simple interest. The formula to calculate simple interest is: simple interest = principle x rate x time / 100  "
      ]
    },
    {
      "cell_type": "code",
      "metadata": {
        "colab": {
          "base_uri": "https://localhost:8080/"
        },
        "id": "pJWdwEs8FuRj",
        "outputId": "cf29d42e-1668-4bf0-b888-42bf4fb1d1ca"
      },
      "source": [
        "principal = float(input(\"Enter the principal amount: \"))\n",
        "rate = float(input(\"Enter the interest rate (in decimal without the percentage sign): \"))\n",
        "timep = float(input(\"Enter the time period: \"))\n",
        "interest = (principal * rate * timep)/100\n",
        "print(\"The simple interest is: \" + str(interest))"
      ],
      "execution_count": null,
      "outputs": [
        {
          "output_type": "stream",
          "name": "stdout",
          "text": [
            "Enter the principal amount: 1000\n",
            "Enter the interest rate (in decimal without the percentage sign): 1\n",
            "Enter the time period: 10\n",
            "The simple interest is: 100.0\n"
          ]
        }
      ]
    },
    {
      "cell_type": "markdown",
      "metadata": {
        "id": "BRaMzJDLMLFm"
      },
      "source": [
        "Q.5 Write a program that accepts seconds from keyboard as integer. Your program should converts seconds in hours, minutes and seconds. Your output should like this :<BR>\n",
        "Enter seconds: 13400<BR>\n",
        "Hours: 3<BR>\n",
        "Minutes: 43<BR>\n",
        "Seconds: 20  <BR>\n"
      ]
    },
    {
      "cell_type": "code",
      "metadata": {
        "colab": {
          "base_uri": "https://localhost:8080/"
        },
        "id": "PQRKdPlaMFrL",
        "outputId": "51e92467-e4bc-4504-e88c-84ab5cac2ed9"
      },
      "source": [
        "inp = int(input(\"Enter seconds: \"))\n",
        "hrs = inp // 3600\n",
        "inp = inp % 3600\n",
        "mins = inp //60\n",
        "inp = inp % 60\n",
        "seconds = inp // 1\n",
        "print(\"\\nHours: \" + str(hrs) + \"\\nMinutes: \" + str(mins) + \"\\nSeconds: \" + str(seconds))"
      ],
      "execution_count": null,
      "outputs": [
        {
          "output_type": "stream",
          "name": "stdout",
          "text": [
            "Enter seconds: 4480\n",
            "\n",
            "Hours: 1\n",
            "Minutes: 14\n",
            "Seconds: 40\n"
          ]
        }
      ]
    },
    {
      "cell_type": "markdown",
      "metadata": {
        "id": "lEhRqJ3IiD7X"
      },
      "source": [
        "Q.6 Write a program that prompts the user to enter number in two variables and swap the contents of the variables.  "
      ]
    },
    {
      "cell_type": "code",
      "metadata": {
        "colab": {
          "base_uri": "https://localhost:8080/"
        },
        "id": "tVcRnMO_iMb_",
        "outputId": "dcb98137-132c-40ba-af5e-81da1841ad0c"
      },
      "source": [
        "var1 = 3\n",
        "var2 = 5\n",
        "temp = var1\n",
        "var1 = var2\n",
        "var2 = temp\n",
        "print(\"First variable: \" + str(var1) + \"\\nSecond variable: \"  + str(var2))"
      ],
      "execution_count": 4,
      "outputs": [
        {
          "output_type": "stream",
          "name": "stdout",
          "text": [
            "First variable: 5\n",
            "Second variable: 3\n"
          ]
        }
      ]
    },
    {
      "cell_type": "markdown",
      "metadata": {
        "id": "nGRNX1Z1d-Kt"
      },
      "source": [
        "Q.7 Write a program that prompts the user to enter number in two variables and swap the contents of the variables. (Do not declare extra variable.)  "
      ]
    },
    {
      "cell_type": "code",
      "metadata": {
        "id": "1SZAJrSxN559",
        "colab": {
          "base_uri": "https://localhost:8080/"
        },
        "outputId": "469e2064-6f06-4578-ad25-2c6eb9e9fc14"
      },
      "source": [
        "var1 = 3\n",
        "var2 = 5\n",
        "var1,var2 = var2,var1\n",
        "print(\"First variable: \" + str(var1) + \"\\nSecond variable: \"  + str(var2))"
      ],
      "execution_count": 5,
      "outputs": [
        {
          "output_type": "stream",
          "name": "stdout",
          "text": [
            "First variable: 5\n",
            "Second variable: 3\n"
          ]
        }
      ]
    },
    {
      "cell_type": "markdown",
      "metadata": {
        "id": "wh-ALujxh9_Z"
      },
      "source": [
        "Q.8 Write a program that prompts the user to input the radius of a circle and outputs the area and circumference of the circle. "
      ]
    },
    {
      "cell_type": "code",
      "metadata": {
        "colab": {
          "base_uri": "https://localhost:8080/"
        },
        "id": "C6h_RJNxh2ja",
        "outputId": "e3c6add1-7d24-481d-87cc-f3a23d5858d6"
      },
      "source": [
        "radius = float(input(\"Enter the radius: \"))\n",
        "area = 3.14 * (radius**2)\n",
        "circumference = 2 * 3.14 * radius\n",
        "print(\"Area is : \" + str(area) + \"\\nCircumference is: \" + str(circumference))"
      ],
      "execution_count": 6,
      "outputs": [
        {
          "output_type": "stream",
          "name": "stdout",
          "text": [
            "Enter the radius: 4\n",
            "Area is : 50.24\n",
            "Circumference is: 25.12\n"
          ]
        }
      ]
    },
    {
      "cell_type": "markdown",
      "metadata": {
        "id": "mb-gbo3hkO1B"
      },
      "source": [
        "Q.9 Write a program that prompts the user to input the length and the width of a rectangle and outputs the area and circumference of the rectangle.  "
      ]
    },
    {
      "cell_type": "code",
      "metadata": {
        "colab": {
          "base_uri": "https://localhost:8080/"
        },
        "id": "FcKfFJoxkEEF",
        "outputId": "9497f57d-ce49-4891-81f1-f147a1a6cfc7"
      },
      "source": [
        "length = float(input(\"Enter the length: \"))\n",
        "breadth = float(input(\"Enter the breadth: \"))\n",
        "area = length * breadth\n",
        "circumference = 2 * (length + breadth)\n",
        "print(\"Area is : \" + str(area) + \"\\nCircumference is: \" + str(circumference))"
      ],
      "execution_count": 7,
      "outputs": [
        {
          "output_type": "stream",
          "name": "stdout",
          "text": [
            "Enter the length: 10\n",
            "Enter the breadth: 20\n",
            "Area is : 200.0\n",
            "Circumference is: 60.0\n"
          ]
        }
      ]
    },
    {
      "cell_type": "markdown",
      "metadata": {
        "id": "EDTtJRrCkprq"
      },
      "source": [
        "Q.10 Write a program that asks the user to input the length of sides of the triangle and print the area.  "
      ]
    },
    {
      "cell_type": "code",
      "metadata": {
        "id": "rnVdgT0ElllQ"
      },
      "source": [
        "import math"
      ],
      "execution_count": 9,
      "outputs": []
    },
    {
      "cell_type": "code",
      "metadata": {
        "colab": {
          "base_uri": "https://localhost:8080/"
        },
        "id": "es6QAQqtkmfN",
        "outputId": "46b07d4b-b194-45d1-fa30-9b816ba3e18b"
      },
      "source": [
        "a = float(input(\"Enter the side a: \"))\n",
        "b = float(input(\"Enter the side b: \"))\n",
        "c = float(input(\"Enter the side c: \"))\n",
        "s = (a + b + c)/2\n",
        "area = math.sqrt(s * (s-a) * (s-b) * (s-c))\n",
        "print(\"Area is : \" + str(area))"
      ],
      "execution_count": 12,
      "outputs": [
        {
          "output_type": "stream",
          "name": "stdout",
          "text": [
            "Enter the side a: 5\n",
            "Enter the side b: 12\n",
            "Enter the side c: 13\n",
            "Area is : 30.0\n"
          ]
        }
      ]
    },
    {
      "cell_type": "markdown",
      "metadata": {
        "id": "omBCtgjRl2ss"
      },
      "source": [
        "Q.11 Write a program which prompts the user to input principle, rate and time and calculate compound interest. "
      ]
    },
    {
      "cell_type": "code",
      "metadata": {
        "colab": {
          "base_uri": "https://localhost:8080/"
        },
        "id": "4793ZRt6luFg",
        "outputId": "518d4e22-39f3-4076-e1a0-5dbe00d47755"
      },
      "source": [
        "principal = float(input(\"Enter the principal amount: \"))\n",
        "rate = float(input(\"Enter the interest rate (in decimal without the percentage sign): \"))\n",
        "timep = float(input(\"Enter the time period: \"))\n",
        "interest = principal * (1 + (rate/100))**timep\n",
        "print(\"The compound interest is: \" + str(interest))"
      ],
      "execution_count": 13,
      "outputs": [
        {
          "output_type": "stream",
          "name": "stdout",
          "text": [
            "Enter the principal amount: 10000\n",
            "Enter the interest rate (in decimal without the percentage sign): 10\n",
            "Enter the time period: 5\n",
            "The compound interest is: 16105.100000000006\n"
          ]
        }
      ]
    }
  ]
}