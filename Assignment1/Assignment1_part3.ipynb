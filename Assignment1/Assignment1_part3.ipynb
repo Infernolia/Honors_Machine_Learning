{
  "nbformat": 4,
  "nbformat_minor": 0,
  "metadata": {
    "colab": {
      "name": "Assignment1_part3.ipynb",
      "provenance": [],
      "collapsed_sections": []
    },
    "kernelspec": {
      "name": "python3",
      "display_name": "Python 3"
    },
    "language_info": {
      "name": "python"
    }
  },
  "cells": [
    {
      "cell_type": "markdown",
      "metadata": {
        "id": "4bSYAbU-Dbo_"
      },
      "source": [
        "<center>\n",
        "<h1>Machine Learning Laboratory</h1> \n",
        "<h2>(410302)</h2>\n",
        "<h3>BE Sem I Honors in AI/ML</h3>\n",
        "<h3>Academic Year: 2021-22</h3>\n",
        "<h3>Lab Assignment No.1 Part 3 </h3></center>"
      ]
    },
    {
      "cell_type": "markdown",
      "metadata": {
        "id": "OPgSM6BqDbfI"
      },
      "source": [
        "<h3><font color=\"purple\">\n",
        "Name: Aboli Marathe<BR>\n",
        "Roll Number: 41301<BR>\n",
        "Branch: Department of Computer Engineering\n",
        "</font>\n",
        "</h3>"
      ]
    },
    {
      "cell_type": "markdown",
      "metadata": {
        "id": "QY8SY5w4OcJH"
      },
      "source": [
        "Q.1 Insert the missing part of the code below to output \"Hello World\".\n",
        "______(\"Hello World\")"
      ]
    },
    {
      "cell_type": "code",
      "metadata": {
        "colab": {
          "base_uri": "https://localhost:8080/"
        },
        "id": "DU0-jqg-CyBs",
        "outputId": "0d633c8e-c3a1-4f88-db72-90390b72cab7"
      },
      "source": [
        "\n",
        "\n",
        "# Solution\n",
        "print(\"Hello World\")\n"
      ],
      "execution_count": null,
      "outputs": [
        {
          "output_type": "stream",
          "name": "stdout",
          "text": [
            "Hello World\n"
          ]
        }
      ]
    },
    {
      "cell_type": "markdown",
      "metadata": {
        "id": "Z1TNIh4POilD"
      },
      "source": [
        "Q.2  find the mistake of programme"
      ]
    },
    {
      "cell_type": "code",
      "metadata": {
        "id": "XY42fqaSDCmX"
      },
      "source": [
        "\n",
        "if 5 > 2:\n",
        "print(\"Five is greater than two!\")\n"
      ],
      "execution_count": null,
      "outputs": []
    },
    {
      "cell_type": "code",
      "metadata": {
        "colab": {
          "base_uri": "https://localhost:8080/"
        },
        "id": "SEWvQMnEFDSX",
        "outputId": "77d8c986-4f12-4d96-f9cc-ccc6fdfbfa01"
      },
      "source": [
        "# Solution\n",
        "if 5 > 2:\n",
        "  print(\"Five is greater than two!\")\n",
        "# The mistake is incorrect indentation."
      ],
      "execution_count": null,
      "outputs": [
        {
          "output_type": "stream",
          "name": "stdout",
          "text": [
            "Five is greater than two!\n"
          ]
        }
      ]
    },
    {
      "cell_type": "markdown",
      "metadata": {
        "id": "gdTukFX1OpVa"
      },
      "source": [
        "Q.3 Comments in Python are written with a special character, which one?\n",
        "___This is a comment"
      ]
    },
    {
      "cell_type": "code",
      "metadata": {
        "id": "BI6kQqjlFIw6"
      },
      "source": [
        "# Solution\n",
        "#This is a comment"
      ],
      "execution_count": null,
      "outputs": []
    },
    {
      "cell_type": "markdown",
      "metadata": {
        "id": "sIErdCoOOtdp"
      },
      "source": [
        "Q.4 Use a multiline string to make the a multi line comment:\n",
        "___This is a comment\n",
        "written in\n",
        "more that just one line___"
      ]
    },
    {
      "cell_type": "code",
      "metadata": {
        "colab": {
          "base_uri": "https://localhost:8080/",
          "height": 35
        },
        "id": "QzXfQYTkFOC9",
        "outputId": "fa889305-821a-45c0-9d3f-783d15811797"
      },
      "source": [
        "\"\"\"\n",
        "This is a comment\n",
        "written in\n",
        "more that just one line\n",
        "\"\"\""
      ],
      "execution_count": null,
      "outputs": [
        {
          "output_type": "execute_result",
          "data": {
            "application/vnd.google.colaboratory.intrinsic+json": {
              "type": "string"
            },
            "text/plain": [
              "'\\nThis is a comment\\nwritten in\\nmore that just one line\\n'"
            ]
          },
          "metadata": {},
          "execution_count": 8
        }
      ]
    },
    {
      "cell_type": "markdown",
      "metadata": {
        "id": "90vLyZTcOziT"
      },
      "source": [
        "Q.5 Create a variable named car and assign the value Volvo to it."
      ]
    },
    {
      "cell_type": "code",
      "metadata": {
        "id": "Fc7rKtH9ENt8"
      },
      "source": [
        "\n",
        "\n",
        "# Solution\n",
        "car = \"Volvo\""
      ],
      "execution_count": null,
      "outputs": []
    },
    {
      "cell_type": "markdown",
      "metadata": {
        "id": "65MbW0P5O3sF"
      },
      "source": [
        "Q.6 Create a variable named x and assign the value 50 to it."
      ]
    },
    {
      "cell_type": "code",
      "metadata": {
        "id": "DF7wGoWjENqV"
      },
      "source": [
        "\n",
        "\n",
        "# Solution\n",
        "x = 50"
      ],
      "execution_count": null,
      "outputs": []
    },
    {
      "cell_type": "markdown",
      "metadata": {
        "id": "K42rRbYsO6Ab"
      },
      "source": [
        "Q.7 Display the sum of 5 + 10, using two variables: x and y."
      ]
    },
    {
      "cell_type": "code",
      "metadata": {
        "colab": {
          "base_uri": "https://localhost:8080/"
        },
        "id": "UK2lPBtVEQP6",
        "outputId": "484510d7-7944-4e84-818b-31c572b8fd78"
      },
      "source": [
        "\n",
        "\n",
        "# Solution\n",
        "x = 5\n",
        "y = 10\n",
        "print(x+y)"
      ],
      "execution_count": null,
      "outputs": [
        {
          "output_type": "stream",
          "name": "stdout",
          "text": [
            "15\n"
          ]
        }
      ]
    },
    {
      "cell_type": "markdown",
      "metadata": {
        "id": "pEdAuOluO880"
      },
      "source": [
        "Q.8 Create a variable called z, assign x + y to it, and display the result."
      ]
    },
    {
      "cell_type": "code",
      "metadata": {
        "colab": {
          "base_uri": "https://localhost:8080/"
        },
        "id": "ibhzlkwpEQMb",
        "outputId": "cc9937a9-8d7c-44e5-edce-d36113493bd9"
      },
      "source": [
        "\n",
        "\n",
        "# Solution\n",
        "z = x + y\n",
        "print(z)"
      ],
      "execution_count": null,
      "outputs": [
        {
          "output_type": "stream",
          "name": "stdout",
          "text": [
            "15\n"
          ]
        }
      ]
    },
    {
      "cell_type": "markdown",
      "metadata": {
        "id": "WbFEZ-7WPAQ5"
      },
      "source": [
        "Q. 9 Remove the illegal characters in the variable name:\n",
        "2my-first_name = \"John\"\n"
      ]
    },
    {
      "cell_type": "code",
      "metadata": {
        "id": "gAmDT-xbGRUN"
      },
      "source": [
        "# Solution\n",
        "myfirst_name = \"John\""
      ],
      "execution_count": null,
      "outputs": []
    },
    {
      "cell_type": "markdown",
      "metadata": {
        "id": "R0NxMNW2PGAf"
      },
      "source": [
        "Q.10 Insert the correct syntax to assign the same value to all three variables in one code line.\n",
        "x __ y __ z _ \"Orange\"\n"
      ]
    },
    {
      "cell_type": "code",
      "metadata": {
        "id": "PvsoX287GYwi"
      },
      "source": [
        "# Solution\n",
        "\n",
        "x = y = z = \"Orange\""
      ],
      "execution_count": null,
      "outputs": []
    },
    {
      "cell_type": "markdown",
      "metadata": {
        "id": "Wvsm5-4SPJvX"
      },
      "source": [
        "Q.11 #Question : Given a two integer numbers return their product and if the product is greater than 1000, then return their sum\n",
        "#Given:\n",
        "#number1 = 20\n",
        "#number2 = 30\n",
        "#Expected Output:\n",
        "#The result is 600\n",
        "#Given:\n",
        "#number1 = 40\n",
        "#number2 = 30\n",
        "#Expected Output:\n",
        "#The result is 70"
      ]
    },
    {
      "cell_type": "code",
      "metadata": {
        "colab": {
          "base_uri": "https://localhost:8080/"
        },
        "id": "QdXzavXNGnIZ",
        "outputId": "a0f96cd3-0129-4844-9b0a-7a214265bc0d"
      },
      "source": [
        "# Solution\n",
        "\n",
        "def samplefun(num1,num2):\n",
        "  product = num1*num2\n",
        "  if product > 1000:\n",
        "    return num1 + num2\n",
        "  else:\n",
        "    return product\n",
        "\n",
        "samplefun(20,30)\n"
      ],
      "execution_count": null,
      "outputs": [
        {
          "output_type": "execute_result",
          "data": {
            "text/plain": [
              "600"
            ]
          },
          "metadata": {},
          "execution_count": 15
        }
      ]
    },
    {
      "cell_type": "code",
      "metadata": {
        "colab": {
          "base_uri": "https://localhost:8080/"
        },
        "id": "HT8f2CW7HH84",
        "outputId": "01db5c22-6483-41b4-a4a2-f0d4a50af7ff"
      },
      "source": [
        "samplefun(40,30)"
      ],
      "execution_count": null,
      "outputs": [
        {
          "output_type": "execute_result",
          "data": {
            "text/plain": [
              "70"
            ]
          },
          "metadata": {},
          "execution_count": 16
        }
      ]
    },
    {
      "cell_type": "markdown",
      "metadata": {
        "id": "q2xpl30lPNFW"
      },
      "source": [
        "Q. 12 Question : Reverse the following tuple"
      ]
    },
    {
      "cell_type": "code",
      "metadata": {
        "colab": {
          "base_uri": "https://localhost:8080/"
        },
        "id": "zu1DRJC_EItt",
        "outputId": "d38c6409-3f0e-4946-85d0-b99331531dc9"
      },
      "source": [
        "aTuple = (10, 20, 30, 40, 50)\n",
        "#Expected output:\n",
        "#(50, 40, 30, 20, 10)\n",
        "\n",
        "#Solution\n",
        "print(aTuple[::-1])"
      ],
      "execution_count": null,
      "outputs": [
        {
          "output_type": "stream",
          "name": "stdout",
          "text": [
            "(50, 40, 30, 20, 10)\n"
          ]
        }
      ]
    },
    {
      "cell_type": "markdown",
      "metadata": {
        "id": "_mH05xDxPUds"
      },
      "source": [
        "Q.13 Access value 20 from the following tuple"
      ]
    },
    {
      "cell_type": "code",
      "metadata": {
        "colab": {
          "base_uri": "https://localhost:8080/"
        },
        "id": "B6d1gFDUEIqP",
        "outputId": "caf6c10f-dee9-4516-9b4a-97c75182bf95"
      },
      "source": [
        "\n",
        "aTuple = (\"Orange\", [10, 20, 30], (5, 15, 25))\n",
        "#Expected output:\n",
        "#20\n",
        "\n",
        "# Solution\n",
        "print(aTuple[1][1])"
      ],
      "execution_count": null,
      "outputs": [
        {
          "output_type": "stream",
          "name": "stdout",
          "text": [
            "20\n"
          ]
        }
      ]
    },
    {
      "cell_type": "markdown",
      "metadata": {
        "id": "mpfaB8FBPWBa"
      },
      "source": [
        "Q.14 Given a Python list you should be able to display Python list in the following order"
      ]
    },
    {
      "cell_type": "code",
      "metadata": {
        "colab": {
          "base_uri": "https://localhost:8080/"
        },
        "id": "nyNP29uUEFVe",
        "outputId": "2378e0ec-925f-4a3c-8253-229d9012e23b"
      },
      "source": [
        "\n",
        "aLsit = [100, 200, 300, 400, 500]\n",
        "#Expected output:\n",
        "#[500, 400, 300, 200, 100]\n",
        "\n",
        "# Solution\n",
        "print(aLsit[::-1])\n"
      ],
      "execution_count": null,
      "outputs": [
        {
          "output_type": "stream",
          "name": "stdout",
          "text": [
            "[500, 400, 300, 200, 100]\n"
          ]
        }
      ]
    },
    {
      "cell_type": "markdown",
      "metadata": {
        "id": "V-6yQ5XlPaGg"
      },
      "source": [
        "Q.15 Concatenate two lists index-wise"
      ]
    },
    {
      "cell_type": "code",
      "metadata": {
        "colab": {
          "base_uri": "https://localhost:8080/"
        },
        "id": "0Z-pZA6rJI9a",
        "outputId": "cd9d9a2a-3897-4e1e-e6c9-720eddd5ac60"
      },
      "source": [
        "\n",
        "list1 = [\"M\", \"na\", \"i\", \"Ke\"] \n",
        "list2 = [\"y\", \"me\", \"s\", \"lly\"]\n",
        "#Expected output:\n",
        "#['My', 'name', 'is', 'Kelly']\n",
        "\n",
        "# Solution\n",
        "list3 = []\n",
        "for i in range(len(list1)):\n",
        "  list3.append(list1[i] + list2[i])\n",
        "\n",
        "print(list3)\n",
        "\n"
      ],
      "execution_count": null,
      "outputs": [
        {
          "output_type": "stream",
          "name": "stdout",
          "text": [
            "['My', 'name', 'is', 'Kelly']\n"
          ]
        }
      ]
    },
    {
      "cell_type": "markdown",
      "metadata": {
        "id": "9V3GDQXvPdrU"
      },
      "source": [
        "Q. 16 Question: Given a two Python list. Iterate both lists simultaneously such that list1 should display item in original order and list2 in reverse order"
      ]
    },
    {
      "cell_type": "code",
      "metadata": {
        "colab": {
          "base_uri": "https://localhost:8080/"
        },
        "id": "yvXA5_cFDCXD",
        "outputId": "cf8eea6c-52af-4ca4-dd53-772e1223be20"
      },
      "source": [
        "\n",
        "\n",
        "list1 = [10, 20, 30, 40]\n",
        "list2 = [100, 200, 300, 400]\n",
        "#Expected output:\n",
        "# 10 400\n",
        "# 20 300\n",
        "# 30 200\n",
        "# 40 100\n",
        "\n",
        "# Solution\n",
        "\n",
        "for i in range(len(list1)):\n",
        "  print( str(list1[i]) + \" \" + str(list2[-1*(i+1)]))"
      ],
      "execution_count": null,
      "outputs": [
        {
          "output_type": "stream",
          "name": "stdout",
          "text": [
            "10 400\n",
            "20 300\n",
            "30 200\n",
            "40 100\n"
          ]
        }
      ]
    },
    {
      "cell_type": "code",
      "metadata": {
        "colab": {
          "base_uri": "https://localhost:8080/"
        },
        "id": "yZgk7dxkOVcV",
        "outputId": "387d8ead-9238-453a-908a-a5602c05f4cd"
      },
      "source": [
        "# Alternative solution\n",
        "for x,y in zip(list1,list2[::-1]):\n",
        "  print(str(x) + \" \" + str(y))"
      ],
      "execution_count": null,
      "outputs": [
        {
          "output_type": "stream",
          "name": "stdout",
          "text": [
            "10 400\n",
            "20 300\n",
            "30 200\n",
            "40 100\n"
          ]
        }
      ]
    },
    {
      "cell_type": "markdown",
      "metadata": {
        "id": "XlUeDuJAPmnb"
      },
      "source": [
        "Q. 17 Remove empty strings from the list of strings"
      ]
    },
    {
      "cell_type": "code",
      "metadata": {
        "colab": {
          "base_uri": "https://localhost:8080/"
        },
        "id": "4SmNy8LpDCTB",
        "outputId": "f3775223-e22d-449a-eec3-3da1f0f16fe5"
      },
      "source": [
        "def fun(str1):\n",
        "  if len(str1)!=0:\n",
        "    return True\n",
        "  else:\n",
        "    return False\n",
        "\n",
        "\n",
        "\n",
        "list1 = [\"Mike\", \"\", \"Emma\", \"Kelly\", \"\", \"Brad\"]\n",
        "# Expected output:\n",
        "# [\"Mike\", \"Emma\", \"Kelly\", \"Brad\"]\n",
        "\n",
        "list2 = []\n",
        "filtered = filter(fun, list1)\n",
        "for i in filtered:\n",
        "  list2.append(i)\n",
        "\n",
        "list2\n"
      ],
      "execution_count": null,
      "outputs": [
        {
          "output_type": "execute_result",
          "data": {
            "text/plain": [
              "['Mike', 'Emma', 'Kelly', 'Brad']"
            ]
          },
          "metadata": {},
          "execution_count": 23
        }
      ]
    },
    {
      "cell_type": "markdown",
      "metadata": {
        "id": "ler-edzWPqHz"
      },
      "source": [
        "Q. 18 Write a Python program to display output in given format"
      ]
    },
    {
      "cell_type": "code",
      "metadata": {
        "colab": {
          "base_uri": "https://localhost:8080/"
        },
        "id": "kANmiMg-DCPN",
        "outputId": "d282e506-c89f-4bf4-e3a8-12dec16a42dd"
      },
      "source": [
        "\n",
        "\n",
        "# Solution\n",
        "l = \"Twinkle, twinkle, little star,\\n\\tHow I wonder what you are!\\n\\t\\tUp above the world so high,\\n\\t\\tLike a diamond in the sky.\\nTwinkle, twinkle, little star,\\n\\tHow I wonder what you are!\"\n",
        "print(l)"
      ],
      "execution_count": null,
      "outputs": [
        {
          "output_type": "stream",
          "name": "stdout",
          "text": [
            "Twinkle, twinkle, little star,\n",
            "\tHow I wonder what you are!\n",
            "\t\tUp above the world so high,\n",
            "\t\tLike a diamond in the sky.\n",
            "Twinkle, twinkle, little star,\n",
            "\tHow I wonder what you are!\n"
          ]
        }
      ]
    },
    {
      "cell_type": "markdown",
      "metadata": {
        "id": "7S0lMsmdPrhv"
      },
      "source": [
        "Q. 19 Write a Python program to display the first and last colors from the following list"
      ]
    },
    {
      "cell_type": "code",
      "metadata": {
        "colab": {
          "base_uri": "https://localhost:8080/"
        },
        "id": "lPG5nkM2DCLn",
        "outputId": "151d291e-2864-47f0-c7f1-f38e82ee02fa"
      },
      "source": [
        "\n",
        "color_list = [\"Red\",\"Green\",\"White\" ,\"Black\"]\n",
        "\n",
        "# Solution\n",
        "print(color_list[0],color_list[-1])"
      ],
      "execution_count": null,
      "outputs": [
        {
          "output_type": "stream",
          "name": "stdout",
          "text": [
            "Red Black\n"
          ]
        }
      ]
    },
    {
      "cell_type": "code",
      "metadata": {
        "id": "wO-SDALUP1Yj"
      },
      "source": [
        ""
      ],
      "execution_count": null,
      "outputs": []
    }
  ]
}