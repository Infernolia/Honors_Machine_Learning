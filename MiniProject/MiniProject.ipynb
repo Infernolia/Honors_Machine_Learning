{
  "nbformat": 4,
  "nbformat_minor": 0,
  "metadata": {
    "kernelspec": {
      "display_name": "Python 3",
      "language": "python",
      "name": "python3"
    },
    "language_info": {
      "codemirror_mode": {
        "name": "ipython",
        "version": 3
      },
      "file_extension": ".py",
      "mimetype": "text/x-python",
      "name": "python",
      "nbconvert_exporter": "python",
      "pygments_lexer": "ipython3",
      "version": "3.7.9"
    },
    "colab": {
      "name": "MiniProject.ipynb",
      "provenance": [],
      "collapsed_sections": []
    }
  },
  "cells": [
    {
      "cell_type": "markdown",
      "metadata": {
        "id": "qzauwvnA7rBh"
      },
      "source": [
        "<center>\n",
        "<h1>Machine Learning Laboratory</h1> \n",
        "<h2>(410302)</h2>\n",
        "<h3>BE Sem I Honors in AI/ML</h3>\n",
        "<h3>Academic Year: 2021-22</h3>\n",
        "<h3>Mini Project</h3></center>\n"
      ]
    },
    {
      "cell_type": "markdown",
      "metadata": {
        "id": "TibZbBl57q6J"
      },
      "source": [
        "<h3><font color=\"purple\">\n",
        "Name: Aboli Marathe<BR>\n",
        "Roll Number: 41301<BR>\n",
        "Branch: Department of Computer Engineering\n",
        "</font>\n",
        "</h3>"
      ]
    },
    {
      "cell_type": "markdown",
      "metadata": {
        "id": "2ue0FEoE81qy"
      },
      "source": [
        "# Problem Statement"
      ]
    },
    {
      "cell_type": "markdown",
      "metadata": {
        "id": "tpzZZo3t9FRS"
      },
      "source": [
        "## Introduction\n",
        "\n",
        "Reinforcement learning is an area of machine learning concerned with how intelligent agents ought to take actions in an environment in order to maximize the notion of cumulative reward.\n",
        "\n",
        "#### Cartpole problem\n",
        "\n",
        "Cartpole - known also as an Inverted Pendulum is a pendulum with a center of gravity above its pivot point. It’s unstable, but can be controlled by moving the pivot point under the center of mass. The goal is to keep the cartpole balanced by applying appropriate forces to a pivot point.\n",
        "\n",
        "In this Mini project, we will implement a deep reinforcement learning algorithms for solving the cartpole problem and analyze the performance of the model.\n",
        "\n",
        "# Problem Statement:Evaluating the performance of Deep Reinforcement Learning for solving the Cartpole Problem\n",
        "\n"
      ]
    },
    {
      "cell_type": "markdown",
      "metadata": {
        "id": "3MiBjKkgAGug"
      },
      "source": [
        "## Algorithm Employed: Rainbow\n",
        "\n",
        "####A selection of the below six extensions that each have addressed a limitation and improved overall performance were integrated into a single integrated agent, Rainbow for improved performance on RL tasks [8]:\n",
        "\n",
        "1. Double Q-learning\n",
        "2. Prioritized replay\n",
        "3. Dueling networks\n",
        "4. Multi-step learning\n",
        "5. Distributional RL\n",
        "6. Noisy Nets\n",
        "\n",
        "\n",
        "1. V. Mnih et al., \"Human-level control through deep reinforcement learning.\" Nature, 518 (7540):529–533, 2015.\n",
        "2. van Hasselt et al., \"Deep Reinforcement Learning with Double Q-learning.\" arXiv preprint arXiv:1509.06461, 2015.\n",
        "3. T. Schaul et al., \"Prioritized Experience Replay.\" arXiv preprint arXiv:1511.05952, 2015.\n",
        "4. Z. Wang et al., \"Dueling Network Architectures for Deep Reinforcement Learning.\" arXiv preprint arXiv:1511.06581, 2015.\n",
        "5. M. Fortunato et al., \"Noisy Networks for Exploration.\" arXiv preprint arXiv:1706.10295, 2017.\n",
        "6. M. G. Bellemare et al., \"A Distributional Perspective on Reinforcement Learning.\" arXiv preprint arXiv:1707.06887, 2017.\n",
        "7. R. S. Sutton, \"Learning to predict by the methods of temporal differences.\" Machine learning, 3(1):9–44, 1988.\n",
        "8. M. Hessel et al., \"Rainbow: Combining Improvements in Deep Reinforcement Learning.\" arXiv preprint arXiv:1710.02298, 2017."
      ]
    },
    {
      "cell_type": "markdown",
      "metadata": {
        "id": "YjaekmD23SuA"
      },
      "source": [
        "## Configurations for Colab"
      ]
    },
    {
      "cell_type": "code",
      "metadata": {
        "colab": {
          "base_uri": "https://localhost:8080/"
        },
        "id": "f8N61G163SuJ",
        "outputId": "f0a08cca-5659-4d52-a4f1-c67d78da8312"
      },
      "source": [
        "import sys\n",
        "IN_COLAB = \"google.colab\" in sys.modules\n",
        "\n",
        "if IN_COLAB:\n",
        "    !apt install python-opengl\n",
        "    !apt install ffmpeg\n",
        "    !apt install xvfb\n",
        "    !pip install pyvirtualdisplay\n",
        "    !pip install gym\n",
        "    from pyvirtualdisplay import Display\n",
        "    \n",
        "    # Start virtual display\n",
        "    dis = Display(visible=0, size=(400, 400))\n",
        "    dis.start()"
      ],
      "execution_count": 2,
      "outputs": [
        {
          "output_type": "stream",
          "name": "stdout",
          "text": [
            "Reading package lists... Done\n",
            "Building dependency tree       \n",
            "Reading state information... Done\n",
            "python-opengl is already the newest version (3.1.0+dfsg-1).\n",
            "The following package was automatically installed and is no longer required:\n",
            "  libnvidia-common-460\n",
            "Use 'apt autoremove' to remove it.\n",
            "0 upgraded, 0 newly installed, 0 to remove and 37 not upgraded.\n",
            "Reading package lists... Done\n",
            "Building dependency tree       \n",
            "Reading state information... Done\n",
            "ffmpeg is already the newest version (7:3.4.8-0ubuntu0.2).\n",
            "The following package was automatically installed and is no longer required:\n",
            "  libnvidia-common-460\n",
            "Use 'apt autoremove' to remove it.\n",
            "0 upgraded, 0 newly installed, 0 to remove and 37 not upgraded.\n",
            "Reading package lists... Done\n",
            "Building dependency tree       \n",
            "Reading state information... Done\n",
            "xvfb is already the newest version (2:1.19.6-1ubuntu4.9).\n",
            "The following package was automatically installed and is no longer required:\n",
            "  libnvidia-common-460\n",
            "Use 'apt autoremove' to remove it.\n",
            "0 upgraded, 0 newly installed, 0 to remove and 37 not upgraded.\n",
            "Requirement already satisfied: pyvirtualdisplay in /usr/local/lib/python3.7/dist-packages (2.2)\n",
            "Requirement already satisfied: EasyProcess in /usr/local/lib/python3.7/dist-packages (from pyvirtualdisplay) (0.3)\n",
            "Requirement already satisfied: gym in /usr/local/lib/python3.7/dist-packages (0.17.3)\n",
            "Requirement already satisfied: cloudpickle<1.7.0,>=1.2.0 in /usr/local/lib/python3.7/dist-packages (from gym) (1.3.0)\n",
            "Requirement already satisfied: numpy>=1.10.4 in /usr/local/lib/python3.7/dist-packages (from gym) (1.19.5)\n",
            "Requirement already satisfied: scipy in /usr/local/lib/python3.7/dist-packages (from gym) (1.4.1)\n",
            "Requirement already satisfied: pyglet<=1.5.0,>=1.4.0 in /usr/local/lib/python3.7/dist-packages (from gym) (1.5.0)\n",
            "Requirement already satisfied: future in /usr/local/lib/python3.7/dist-packages (from pyglet<=1.5.0,>=1.4.0->gym) (0.16.0)\n"
          ]
        }
      ]
    },
    {
      "cell_type": "markdown",
      "metadata": {
        "id": "0vKNDcgJ3SuM"
      },
      "source": [
        "# 08. Rainbow\n",
        "\n",
        "[M. Hessel et al., \"Rainbow: Combining Improvements in Deep Reinforcement Learning.\" arXiv preprint arXiv:1710.02298, 2017.](https://arxiv.org/pdf/1710.02298.pdf)\n",
        "\n",
        "We will integrate all the following seven components into a single integrated agent, which is called Rainbow!\n",
        "\n",
        "1. DQN\n",
        "2. Double DQN\n",
        "3. Prioritized Experience Replay\n",
        "4. Dueling Network\n",
        "5. Noisy Network\n",
        "6. Categorical DQN\n",
        "7. N-step Learning\n",
        "\n",
        "This method shows an impressive performance on the Atari 2600 benchmark, both in terms of data efficiency and final performance. \n",
        "\n",
        "![rainbow](https://user-images.githubusercontent.com/14961526/60591412-61748100-9dd9-11e9-84fb-076c7a61fbab.png)\n",
        "\n",
        "However, the integration is not so simple because some of components are not independent each other, so we will look into a number of points that people especailly feel confused.\n",
        "\n",
        "1. Noisy Network <-> Dueling Network\n",
        "2. Dueling Network <-> Categorical DQN\n",
        "3. Categorical DQN <-> Double DQN"
      ]
    },
    {
      "cell_type": "code",
      "metadata": {
        "colab": {
          "base_uri": "https://localhost:8080/"
        },
        "id": "8LBZhobF3SuN",
        "outputId": "9c416347-d445-4f3e-a694-6a3b546f063a"
      },
      "source": [
        "import math\n",
        "import os\n",
        "import random\n",
        "from collections import deque\n",
        "from typing import Deque, Dict, List, Tuple\n",
        "\n",
        "import gym\n",
        "import matplotlib.pyplot as plt\n",
        "import numpy as np\n",
        "import torch\n",
        "import torch.nn as nn\n",
        "import torch.nn.functional as F\n",
        "import torch.optim as optim\n",
        "from IPython.display import clear_output\n",
        "from torch.nn.utils import clip_grad_norm_\n",
        "\n",
        "# download segment tree module\n",
        "if IN_COLAB:\n",
        "    !wget https://raw.githubusercontent.com/curt-park/rainbow-is-all-you-need/master/segment_tree.py\n",
        "\n",
        "from segment_tree import MinSegmentTree, SumSegmentTree"
      ],
      "execution_count": 3,
      "outputs": [
        {
          "output_type": "stream",
          "name": "stdout",
          "text": [
            "--2021-10-30 07:44:42--  https://raw.githubusercontent.com/curt-park/rainbow-is-all-you-need/master/segment_tree.py\n",
            "Resolving raw.githubusercontent.com (raw.githubusercontent.com)... 185.199.111.133, 185.199.108.133, 185.199.110.133, ...\n",
            "Connecting to raw.githubusercontent.com (raw.githubusercontent.com)|185.199.111.133|:443... connected.\n",
            "HTTP request sent, awaiting response... 200 OK\n",
            "Length: 4283 (4.2K) [text/plain]\n",
            "Saving to: ‘segment_tree.py.1’\n",
            "\n",
            "\rsegment_tree.py.1     0%[                    ]       0  --.-KB/s               \rsegment_tree.py.1   100%[===================>]   4.18K  --.-KB/s    in 0s      \n",
            "\n",
            "2021-10-30 07:44:42 (46.4 MB/s) - ‘segment_tree.py.1’ saved [4283/4283]\n",
            "\n"
          ]
        }
      ]
    },
    {
      "cell_type": "markdown",
      "metadata": {
        "id": "rMxcoSXm3SuO"
      },
      "source": [
        "## Replay buffer\n",
        "\n",
        "Same as the basic N-step buffer. \n",
        "\n",
        "(Please see *01.dqn.ipynb*, *07.n_step_learning.ipynb* for detailed description about the basic (n-step) replay buffer.)"
      ]
    },
    {
      "cell_type": "code",
      "metadata": {
        "id": "Fbu5dbit3SuP"
      },
      "source": [
        "class ReplayBuffer:\n",
        "    \"\"\"A simple numpy replay buffer.\"\"\"\n",
        "\n",
        "    def __init__(\n",
        "        self, \n",
        "        obs_dim: int, \n",
        "        size: int, \n",
        "        batch_size: int = 32, \n",
        "        n_step: int = 1, \n",
        "        gamma: float = 0.99\n",
        "    ):\n",
        "        self.obs_buf = np.zeros([size, obs_dim], dtype=np.float32)\n",
        "        self.next_obs_buf = np.zeros([size, obs_dim], dtype=np.float32)\n",
        "        self.acts_buf = np.zeros([size], dtype=np.float32)\n",
        "        self.rews_buf = np.zeros([size], dtype=np.float32)\n",
        "        self.done_buf = np.zeros(size, dtype=np.float32)\n",
        "        self.max_size, self.batch_size = size, batch_size\n",
        "        self.ptr, self.size, = 0, 0\n",
        "        \n",
        "        # for N-step Learning\n",
        "        self.n_step_buffer = deque(maxlen=n_step)\n",
        "        self.n_step = n_step\n",
        "        self.gamma = gamma\n",
        "\n",
        "    def store(\n",
        "        self, \n",
        "        obs: np.ndarray, \n",
        "        act: np.ndarray, \n",
        "        rew: float, \n",
        "        next_obs: np.ndarray, \n",
        "        done: bool,\n",
        "    ) -> Tuple[np.ndarray, np.ndarray, float, np.ndarray, bool]:\n",
        "        transition = (obs, act, rew, next_obs, done)\n",
        "        self.n_step_buffer.append(transition)\n",
        "\n",
        "        # single step transition is not ready\n",
        "        if len(self.n_step_buffer) < self.n_step:\n",
        "            return ()\n",
        "        \n",
        "        # make a n-step transition\n",
        "        rew, next_obs, done = self._get_n_step_info(\n",
        "            self.n_step_buffer, self.gamma\n",
        "        )\n",
        "        obs, act = self.n_step_buffer[0][:2]\n",
        "        \n",
        "        self.obs_buf[self.ptr] = obs\n",
        "        self.next_obs_buf[self.ptr] = next_obs\n",
        "        self.acts_buf[self.ptr] = act\n",
        "        self.rews_buf[self.ptr] = rew\n",
        "        self.done_buf[self.ptr] = done\n",
        "        self.ptr = (self.ptr + 1) % self.max_size\n",
        "        self.size = min(self.size + 1, self.max_size)\n",
        "        \n",
        "        return self.n_step_buffer[0]\n",
        "\n",
        "    def sample_batch(self) -> Dict[str, np.ndarray]:\n",
        "        idxs = np.random.choice(self.size, size=self.batch_size, replace=False)\n",
        "\n",
        "        return dict(\n",
        "            obs=self.obs_buf[idxs],\n",
        "            next_obs=self.next_obs_buf[idxs],\n",
        "            acts=self.acts_buf[idxs],\n",
        "            rews=self.rews_buf[idxs],\n",
        "            done=self.done_buf[idxs],\n",
        "            # for N-step Learning\n",
        "            indices=idxs,\n",
        "        )\n",
        "    \n",
        "    def sample_batch_from_idxs(\n",
        "        self, idxs: np.ndarray\n",
        "    ) -> Dict[str, np.ndarray]:\n",
        "        # for N-step Learning\n",
        "        return dict(\n",
        "            obs=self.obs_buf[idxs],\n",
        "            next_obs=self.next_obs_buf[idxs],\n",
        "            acts=self.acts_buf[idxs],\n",
        "            rews=self.rews_buf[idxs],\n",
        "            done=self.done_buf[idxs],\n",
        "        )\n",
        "    \n",
        "    def _get_n_step_info(\n",
        "        self, n_step_buffer: Deque, gamma: float\n",
        "    ) -> Tuple[np.int64, np.ndarray, bool]:\n",
        "        \"\"\"Return n step rew, next_obs, and done.\"\"\"\n",
        "        # info of the last transition\n",
        "        rew, next_obs, done = n_step_buffer[-1][-3:]\n",
        "\n",
        "        for transition in reversed(list(n_step_buffer)[:-1]):\n",
        "            r, n_o, d = transition[-3:]\n",
        "\n",
        "            rew = r + gamma * rew * (1 - d)\n",
        "            next_obs, done = (n_o, d) if d else (next_obs, done)\n",
        "\n",
        "        return rew, next_obs, done\n",
        "\n",
        "    def __len__(self) -> int:\n",
        "        return self.size"
      ],
      "execution_count": 4,
      "outputs": []
    },
    {
      "cell_type": "markdown",
      "metadata": {
        "id": "cXslb0tR3SuS"
      },
      "source": [
        "## Prioritized replay Buffer\n",
        "\n",
        "`store` method returns boolean in order to inform if a N-step transition has been generated.\n",
        "\n",
        "(Please see *02.per.ipynb* for detailed description about PER.)"
      ]
    },
    {
      "cell_type": "code",
      "metadata": {
        "id": "7bIYAPIe3SuT"
      },
      "source": [
        "class PrioritizedReplayBuffer(ReplayBuffer):\n",
        "    \"\"\"Prioritized Replay buffer.\n",
        "    \n",
        "    Attributes:\n",
        "        max_priority (float): max priority\n",
        "        tree_ptr (int): next index of tree\n",
        "        alpha (float): alpha parameter for prioritized replay buffer\n",
        "        sum_tree (SumSegmentTree): sum tree for prior\n",
        "        min_tree (MinSegmentTree): min tree for min prior to get max weight\n",
        "        \n",
        "    \"\"\"\n",
        "    \n",
        "    def __init__(\n",
        "        self, \n",
        "        obs_dim: int, \n",
        "        size: int, \n",
        "        batch_size: int = 32, \n",
        "        alpha: float = 0.6,\n",
        "        n_step: int = 1, \n",
        "        gamma: float = 0.99,\n",
        "    ):\n",
        "        \"\"\"Initialization.\"\"\"\n",
        "        assert alpha >= 0\n",
        "        \n",
        "        super(PrioritizedReplayBuffer, self).__init__(\n",
        "            obs_dim, size, batch_size, n_step, gamma\n",
        "        )\n",
        "        self.max_priority, self.tree_ptr = 1.0, 0\n",
        "        self.alpha = alpha\n",
        "        \n",
        "        # capacity must be positive and a power of 2.\n",
        "        tree_capacity = 1\n",
        "        while tree_capacity < self.max_size:\n",
        "            tree_capacity *= 2\n",
        "\n",
        "        self.sum_tree = SumSegmentTree(tree_capacity)\n",
        "        self.min_tree = MinSegmentTree(tree_capacity)\n",
        "        \n",
        "    def store(\n",
        "        self, \n",
        "        obs: np.ndarray, \n",
        "        act: int, \n",
        "        rew: float, \n",
        "        next_obs: np.ndarray, \n",
        "        done: bool,\n",
        "    ) -> Tuple[np.ndarray, np.ndarray, float, np.ndarray, bool]:\n",
        "        \"\"\"Store experience and priority.\"\"\"\n",
        "        transition = super().store(obs, act, rew, next_obs, done)\n",
        "        \n",
        "        if transition:\n",
        "            self.sum_tree[self.tree_ptr] = self.max_priority ** self.alpha\n",
        "            self.min_tree[self.tree_ptr] = self.max_priority ** self.alpha\n",
        "            self.tree_ptr = (self.tree_ptr + 1) % self.max_size\n",
        "        \n",
        "        return transition\n",
        "\n",
        "    def sample_batch(self, beta: float = 0.4) -> Dict[str, np.ndarray]:\n",
        "        \"\"\"Sample a batch of experiences.\"\"\"\n",
        "        assert len(self) >= self.batch_size\n",
        "        assert beta > 0\n",
        "        \n",
        "        indices = self._sample_proportional()\n",
        "        \n",
        "        obs = self.obs_buf[indices]\n",
        "        next_obs = self.next_obs_buf[indices]\n",
        "        acts = self.acts_buf[indices]\n",
        "        rews = self.rews_buf[indices]\n",
        "        done = self.done_buf[indices]\n",
        "        weights = np.array([self._calculate_weight(i, beta) for i in indices])\n",
        "        \n",
        "        return dict(\n",
        "            obs=obs,\n",
        "            next_obs=next_obs,\n",
        "            acts=acts,\n",
        "            rews=rews,\n",
        "            done=done,\n",
        "            weights=weights,\n",
        "            indices=indices,\n",
        "        )\n",
        "        \n",
        "    def update_priorities(self, indices: List[int], priorities: np.ndarray):\n",
        "        \"\"\"Update priorities of sampled transitions.\"\"\"\n",
        "        assert len(indices) == len(priorities)\n",
        "\n",
        "        for idx, priority in zip(indices, priorities):\n",
        "            assert priority > 0\n",
        "            assert 0 <= idx < len(self)\n",
        "\n",
        "            self.sum_tree[idx] = priority ** self.alpha\n",
        "            self.min_tree[idx] = priority ** self.alpha\n",
        "\n",
        "            self.max_priority = max(self.max_priority, priority)\n",
        "            \n",
        "    def _sample_proportional(self) -> List[int]:\n",
        "        \"\"\"Sample indices based on proportions.\"\"\"\n",
        "        indices = []\n",
        "        p_total = self.sum_tree.sum(0, len(self) - 1)\n",
        "        segment = p_total / self.batch_size\n",
        "        \n",
        "        for i in range(self.batch_size):\n",
        "            a = segment * i\n",
        "            b = segment * (i + 1)\n",
        "            upperbound = random.uniform(a, b)\n",
        "            idx = self.sum_tree.retrieve(upperbound)\n",
        "            indices.append(idx)\n",
        "            \n",
        "        return indices\n",
        "    \n",
        "    def _calculate_weight(self, idx: int, beta: float):\n",
        "        \"\"\"Calculate the weight of the experience at idx.\"\"\"\n",
        "        # get max weight\n",
        "        p_min = self.min_tree.min() / self.sum_tree.sum()\n",
        "        max_weight = (p_min * len(self)) ** (-beta)\n",
        "        \n",
        "        # calculate weights\n",
        "        p_sample = self.sum_tree[idx] / self.sum_tree.sum()\n",
        "        weight = (p_sample * len(self)) ** (-beta)\n",
        "        weight = weight / max_weight\n",
        "        \n",
        "        return weight"
      ],
      "execution_count": 5,
      "outputs": []
    },
    {
      "cell_type": "markdown",
      "metadata": {
        "id": "ALHbzN2x3SuV"
      },
      "source": [
        "## Noisy Layer\n",
        "\n",
        "Please see *05.noisy_net.ipynb* for detailed description.\n",
        "\n",
        "**References:**\n",
        "\n",
        "- https://github.com/higgsfield/RL-Adventure/blob/master/5.noisy%20dqn.ipynb\n",
        "- https://github.com/Kaixhin/Rainbow/blob/master/model.py"
      ]
    },
    {
      "cell_type": "code",
      "metadata": {
        "id": "qtbvKZJ23SuW"
      },
      "source": [
        "class NoisyLinear(nn.Module):\n",
        "    \"\"\"Noisy linear module for NoisyNet.\n",
        "    \n",
        "    \n",
        "        \n",
        "    Attributes:\n",
        "        in_features (int): input size of linear module\n",
        "        out_features (int): output size of linear module\n",
        "        std_init (float): initial std value\n",
        "        weight_mu (nn.Parameter): mean value weight parameter\n",
        "        weight_sigma (nn.Parameter): std value weight parameter\n",
        "        bias_mu (nn.Parameter): mean value bias parameter\n",
        "        bias_sigma (nn.Parameter): std value bias parameter\n",
        "        \n",
        "    \"\"\"\n",
        "\n",
        "    def __init__(\n",
        "        self, \n",
        "        in_features: int, \n",
        "        out_features: int, \n",
        "        std_init: float = 0.5,\n",
        "    ):\n",
        "        \"\"\"Initialization.\"\"\"\n",
        "        super(NoisyLinear, self).__init__()\n",
        "        \n",
        "        self.in_features = in_features\n",
        "        self.out_features = out_features\n",
        "        self.std_init = std_init\n",
        "\n",
        "        self.weight_mu = nn.Parameter(torch.Tensor(out_features, in_features))\n",
        "        self.weight_sigma = nn.Parameter(\n",
        "            torch.Tensor(out_features, in_features)\n",
        "        )\n",
        "        self.register_buffer(\n",
        "            \"weight_epsilon\", torch.Tensor(out_features, in_features)\n",
        "        )\n",
        "\n",
        "        self.bias_mu = nn.Parameter(torch.Tensor(out_features))\n",
        "        self.bias_sigma = nn.Parameter(torch.Tensor(out_features))\n",
        "        self.register_buffer(\"bias_epsilon\", torch.Tensor(out_features))\n",
        "\n",
        "        self.reset_parameters()\n",
        "        self.reset_noise()\n",
        "\n",
        "    def reset_parameters(self):\n",
        "        \"\"\"Reset trainable network parameters (factorized gaussian noise).\"\"\"\n",
        "        mu_range = 1 / math.sqrt(self.in_features)\n",
        "        self.weight_mu.data.uniform_(-mu_range, mu_range)\n",
        "        self.weight_sigma.data.fill_(\n",
        "            self.std_init / math.sqrt(self.in_features)\n",
        "        )\n",
        "        self.bias_mu.data.uniform_(-mu_range, mu_range)\n",
        "        self.bias_sigma.data.fill_(\n",
        "            self.std_init / math.sqrt(self.out_features)\n",
        "        )\n",
        "\n",
        "    def reset_noise(self):\n",
        "        \"\"\"Make new noise.\"\"\"\n",
        "        epsilon_in = self.scale_noise(self.in_features)\n",
        "        epsilon_out = self.scale_noise(self.out_features)\n",
        "\n",
        "        # outer product\n",
        "        self.weight_epsilon.copy_(epsilon_out.ger(epsilon_in))\n",
        "        self.bias_epsilon.copy_(epsilon_out)\n",
        "\n",
        "    def forward(self, x: torch.Tensor) -> torch.Tensor:\n",
        "        \"\"\"Forward method implementation.\n",
        "        \n",
        "        We don't use separate statements on train / eval mode.\n",
        "        It doesn't show remarkable difference of performance.\n",
        "        \"\"\"\n",
        "        return F.linear(\n",
        "            x,\n",
        "            self.weight_mu + self.weight_sigma * self.weight_epsilon,\n",
        "            self.bias_mu + self.bias_sigma * self.bias_epsilon,\n",
        "        )\n",
        "    \n",
        "    @staticmethod\n",
        "    def scale_noise(size: int) -> torch.Tensor:\n",
        "        \"\"\"Set scale to make noise (factorized gaussian noise).\"\"\"\n",
        "        x = torch.randn(size)\n",
        "\n",
        "        return x.sign().mul(x.abs().sqrt())"
      ],
      "execution_count": 6,
      "outputs": []
    },
    {
      "cell_type": "markdown",
      "metadata": {
        "id": "oKShNp-d3SuX"
      },
      "source": [
        "## NoisyNet + DuelingNet + Categorical DQN\n",
        "\n",
        "#### NoisyNet + DuelingNet\n",
        "\n",
        "NoisyLinear is employed for the last two layers of advantage and value layers. The noise should be reset at evey update step.\n",
        "\n",
        "#### DuelingNet + Categorical DQN\n",
        "\n",
        "The dueling network architecture is adapted for use with return distributions. The network has a shared representation, which is then fed into a value stream with atom_size outputs, and into an advantage stream with atom_size × out_dim outputs. For each atom, the value and advantage streams are aggregated, as in dueling DQN, and then passed through a softmax layer to obtain the normalized parametric distributions used to estimate the returns’ distributions.\n",
        "\n",
        "```\n",
        "        advantage = self.advantage_layer(adv_hid).view(-1, self.out_dim, self.atom_size)\n",
        "        value = self.value_layer(val_hid).view(-1, 1, self.atom_size)\n",
        "        q_atoms = value + advantage - advantage.mean(dim=1, keepdim=True)\n",
        "        \n",
        "        dist = F.softmax(q_atoms, dim=-1)\n",
        "```\n",
        "\n",
        "(Please see *04.dueling.ipynb*, *05.noisy_net.ipynb*, *06.categorical_dqn.ipynb* for detailed description of each component's network architecture.)"
      ]
    },
    {
      "cell_type": "code",
      "metadata": {
        "id": "mBflXtlE3SuZ"
      },
      "source": [
        "class Network(nn.Module):\n",
        "    def __init__(\n",
        "        self, \n",
        "        in_dim: int, \n",
        "        out_dim: int, \n",
        "        atom_size: int, \n",
        "        support: torch.Tensor\n",
        "    ):\n",
        "        \"\"\"Initialization.\"\"\"\n",
        "        super(Network, self).__init__()\n",
        "        \n",
        "        self.support = support\n",
        "        self.out_dim = out_dim\n",
        "        self.atom_size = atom_size\n",
        "\n",
        "        # set common feature layer\n",
        "        self.feature_layer = nn.Sequential(\n",
        "            nn.Linear(in_dim, 128), \n",
        "            nn.ReLU(),\n",
        "        )\n",
        "        \n",
        "        # set advantage layer\n",
        "        self.advantage_hidden_layer = NoisyLinear(128, 128)\n",
        "        self.advantage_layer = NoisyLinear(128, out_dim * atom_size)\n",
        "\n",
        "        # set value layer\n",
        "        self.value_hidden_layer = NoisyLinear(128, 128)\n",
        "        self.value_layer = NoisyLinear(128, atom_size)\n",
        "\n",
        "    def forward(self, x: torch.Tensor) -> torch.Tensor:\n",
        "        \"\"\"Forward method implementation.\"\"\"\n",
        "        dist = self.dist(x)\n",
        "        q = torch.sum(dist * self.support, dim=2)\n",
        "        \n",
        "        return q\n",
        "    \n",
        "    def dist(self, x: torch.Tensor) -> torch.Tensor:\n",
        "        \"\"\"Get distribution for atoms.\"\"\"\n",
        "        feature = self.feature_layer(x)\n",
        "        adv_hid = F.relu(self.advantage_hidden_layer(feature))\n",
        "        val_hid = F.relu(self.value_hidden_layer(feature))\n",
        "        \n",
        "        advantage = self.advantage_layer(adv_hid).view(\n",
        "            -1, self.out_dim, self.atom_size\n",
        "        )\n",
        "        value = self.value_layer(val_hid).view(-1, 1, self.atom_size)\n",
        "        q_atoms = value + advantage - advantage.mean(dim=1, keepdim=True)\n",
        "        \n",
        "        dist = F.softmax(q_atoms, dim=-1)\n",
        "        dist = dist.clamp(min=1e-3)  # for avoiding nans\n",
        "        \n",
        "        return dist\n",
        "    \n",
        "    def reset_noise(self):\n",
        "        \"\"\"Reset all noisy layers.\"\"\"\n",
        "        self.advantage_hidden_layer.reset_noise()\n",
        "        self.advantage_layer.reset_noise()\n",
        "        self.value_hidden_layer.reset_noise()\n",
        "        self.value_layer.reset_noise()"
      ],
      "execution_count": 7,
      "outputs": []
    },
    {
      "cell_type": "markdown",
      "metadata": {
        "id": "ciAta0dM3Sua"
      },
      "source": [
        "## Rainbow Agent\n",
        "\n",
        "Here is a summary of DQNAgent class.\n",
        "\n",
        "| Method           | Note                                                 |\n",
        "| ---              | ---                                                  |\n",
        "|select_action     | select an action from the input state.               |\n",
        "|step              | take an action and return the response of the env.   |\n",
        "|compute_dqn_loss  | return dqn loss.                                     |\n",
        "|update_model      | update the model by gradient descent.                |\n",
        "|target_hard_update| hard update from the local model to the target model.|\n",
        "|train             | train the agent during num_frames.                   |\n",
        "|test              | test the agent (1 episode).                          |\n",
        "|plot              | plot the training progresses.                        |\n",
        "\n",
        "#### Categorical DQN + Double DQN\n",
        "\n",
        "The idea of Double Q-learning is to reduce overestimations by decomposing the max operation in the target into action selection and action evaluation. Here, we use `self.dqn` instead of `self.dqn_target` to obtain the target actions.\n",
        "\n",
        "```\n",
        "        # Categorical DQN + Double DQN\n",
        "        # target_dqn is used when we don't employ double DQN\n",
        "        next_action = self.dqn(next_state).argmax(1)\n",
        "        next_dist = self.dqn_target.dist(next_state)\n",
        "        next_dist = next_dist[range(self.batch_size), next_action]\n",
        "```"
      ]
    },
    {
      "cell_type": "code",
      "metadata": {
        "id": "0IFi0wbZ3Sub"
      },
      "source": [
        "class DQNAgent:\n",
        "    \"\"\"DQN Agent interacting with environment.\n",
        "    \n",
        "    Attribute:\n",
        "        env (gym.Env): openAI Gym environment\n",
        "        memory (PrioritizedReplayBuffer): replay memory to store transitions\n",
        "        batch_size (int): batch size for sampling\n",
        "        target_update (int): period for target model's hard update\n",
        "        gamma (float): discount factor\n",
        "        dqn (Network): model to train and select actions\n",
        "        dqn_target (Network): target model to update\n",
        "        optimizer (torch.optim): optimizer for training dqn\n",
        "        transition (list): transition information including \n",
        "                           state, action, reward, next_state, done\n",
        "        v_min (float): min value of support\n",
        "        v_max (float): max value of support\n",
        "        atom_size (int): the unit number of support\n",
        "        support (torch.Tensor): support for categorical dqn\n",
        "        use_n_step (bool): whether to use n_step memory\n",
        "        n_step (int): step number to calculate n-step td error\n",
        "        memory_n (ReplayBuffer): n-step replay buffer\n",
        "    \"\"\"\n",
        "\n",
        "    def __init__(\n",
        "        self, \n",
        "        env: gym.Env,\n",
        "        memory_size: int,\n",
        "        batch_size: int,\n",
        "        target_update: int,\n",
        "        gamma: float = 0.99,\n",
        "        # PER parameters\n",
        "        alpha: float = 0.2,\n",
        "        beta: float = 0.6,\n",
        "        prior_eps: float = 1e-6,\n",
        "        # Categorical DQN parameters\n",
        "        v_min: float = 0.0,\n",
        "        v_max: float = 200.0,\n",
        "        atom_size: int = 51,\n",
        "        # N-step Learning\n",
        "        n_step: int = 3,\n",
        "    ):\n",
        "        \"\"\"Initialization.\n",
        "        \n",
        "        Args:\n",
        "            env (gym.Env): openAI Gym environment\n",
        "            memory_size (int): length of memory\n",
        "            batch_size (int): batch size for sampling\n",
        "            target_update (int): period for target model's hard update\n",
        "            lr (float): learning rate\n",
        "            gamma (float): discount factor\n",
        "            alpha (float): determines how much prioritization is used\n",
        "            beta (float): determines how much importance sampling is used\n",
        "            prior_eps (float): guarantees every transition can be sampled\n",
        "            v_min (float): min value of support\n",
        "            v_max (float): max value of support\n",
        "            atom_size (int): the unit number of support\n",
        "            n_step (int): step number to calculate n-step td error\n",
        "        \"\"\"\n",
        "        obs_dim = env.observation_space.shape[0]\n",
        "        action_dim = env.action_space.n\n",
        "        \n",
        "        self.env = env\n",
        "        self.batch_size = batch_size\n",
        "        self.target_update = target_update\n",
        "        self.gamma = gamma\n",
        "        # NoisyNet: All attributes related to epsilon are removed\n",
        "        \n",
        "        # device: cpu / gpu\n",
        "        self.device = torch.device(\n",
        "            \"cuda\" if torch.cuda.is_available() else \"cpu\"\n",
        "        )\n",
        "        print(self.device)\n",
        "        \n",
        "        # PER\n",
        "        # memory for 1-step Learning\n",
        "        self.beta = beta\n",
        "        self.prior_eps = prior_eps\n",
        "        self.memory = PrioritizedReplayBuffer(\n",
        "            obs_dim, memory_size, batch_size, alpha=alpha\n",
        "        )\n",
        "        \n",
        "        # memory for N-step Learning\n",
        "        self.use_n_step = True if n_step > 1 else False\n",
        "        if self.use_n_step:\n",
        "            self.n_step = n_step\n",
        "            self.memory_n = ReplayBuffer(\n",
        "                obs_dim, memory_size, batch_size, n_step=n_step, gamma=gamma\n",
        "            )\n",
        "            \n",
        "        # Categorical DQN parameters\n",
        "        self.v_min = v_min\n",
        "        self.v_max = v_max\n",
        "        self.atom_size = atom_size\n",
        "        self.support = torch.linspace(\n",
        "            self.v_min, self.v_max, self.atom_size\n",
        "        ).to(self.device)\n",
        "\n",
        "        # networks: dqn, dqn_target\n",
        "        self.dqn = Network(\n",
        "            obs_dim, action_dim, self.atom_size, self.support\n",
        "        ).to(self.device)\n",
        "        self.dqn_target = Network(\n",
        "            obs_dim, action_dim, self.atom_size, self.support\n",
        "        ).to(self.device)\n",
        "        self.dqn_target.load_state_dict(self.dqn.state_dict())\n",
        "        self.dqn_target.eval()\n",
        "        \n",
        "        # optimizer\n",
        "        self.optimizer = optim.Adam(self.dqn.parameters())\n",
        "\n",
        "        # transition to store in memory\n",
        "        self.transition = list()\n",
        "        \n",
        "        # mode: train / test\n",
        "        self.is_test = False\n",
        "\n",
        "    def select_action(self, state: np.ndarray) -> np.ndarray:\n",
        "        \"\"\"Select an action from the input state.\"\"\"\n",
        "        # NoisyNet: no epsilon greedy action selection\n",
        "        selected_action = self.dqn(\n",
        "            torch.FloatTensor(state).to(self.device)\n",
        "        ).argmax()\n",
        "        selected_action = selected_action.detach().cpu().numpy()\n",
        "        \n",
        "        if not self.is_test:\n",
        "            self.transition = [state, selected_action]\n",
        "        \n",
        "        return selected_action\n",
        "\n",
        "    def step(self, action: np.ndarray) -> Tuple[np.ndarray, np.float64, bool]:\n",
        "        \"\"\"Take an action and return the response of the env.\"\"\"\n",
        "        next_state, reward, done, _ = self.env.step(action)\n",
        "\n",
        "        if not self.is_test:\n",
        "            self.transition += [reward, next_state, done]\n",
        "            \n",
        "            # N-step transition\n",
        "            if self.use_n_step:\n",
        "                one_step_transition = self.memory_n.store(*self.transition)\n",
        "            # 1-step transition\n",
        "            else:\n",
        "                one_step_transition = self.transition\n",
        "\n",
        "            # add a single step transition\n",
        "            if one_step_transition:\n",
        "                self.memory.store(*one_step_transition)\n",
        "    \n",
        "        return next_state, reward, done\n",
        "\n",
        "    def update_model(self) -> torch.Tensor:\n",
        "        \"\"\"Update the model by gradient descent.\"\"\"\n",
        "        # PER needs beta to calculate weights\n",
        "        samples = self.memory.sample_batch(self.beta)\n",
        "        weights = torch.FloatTensor(\n",
        "            samples[\"weights\"].reshape(-1, 1)\n",
        "        ).to(self.device)\n",
        "        indices = samples[\"indices\"]\n",
        "        \n",
        "        # 1-step Learning loss\n",
        "        elementwise_loss = self._compute_dqn_loss(samples, self.gamma)\n",
        "        \n",
        "        # PER: importance sampling before average\n",
        "        loss = torch.mean(elementwise_loss * weights)\n",
        "        \n",
        "        # N-step Learning loss\n",
        "        # we are gonna combine 1-step loss and n-step loss so as to\n",
        "        # prevent high-variance. The original rainbow employs n-step loss only.\n",
        "        if self.use_n_step:\n",
        "            gamma = self.gamma ** self.n_step\n",
        "            samples = self.memory_n.sample_batch_from_idxs(indices)\n",
        "            elementwise_loss_n_loss = self._compute_dqn_loss(samples, gamma)\n",
        "            elementwise_loss += elementwise_loss_n_loss\n",
        "            \n",
        "            # PER: importance sampling before average\n",
        "            loss = torch.mean(elementwise_loss * weights)\n",
        "\n",
        "        self.optimizer.zero_grad()\n",
        "        loss.backward()\n",
        "        clip_grad_norm_(self.dqn.parameters(), 10.0)\n",
        "        self.optimizer.step()\n",
        "        \n",
        "        # PER: update priorities\n",
        "        loss_for_prior = elementwise_loss.detach().cpu().numpy()\n",
        "        new_priorities = loss_for_prior + self.prior_eps\n",
        "        self.memory.update_priorities(indices, new_priorities)\n",
        "        \n",
        "        # NoisyNet: reset noise\n",
        "        self.dqn.reset_noise()\n",
        "        self.dqn_target.reset_noise()\n",
        "\n",
        "        return loss.item()\n",
        "        \n",
        "    def train(self, num_frames: int, plotting_interval: int = 200):\n",
        "        \"\"\"Train the agent.\"\"\"\n",
        "        self.is_test = False\n",
        "        \n",
        "        state = self.env.reset()\n",
        "        update_cnt = 0\n",
        "        losses = []\n",
        "        scores = []\n",
        "        score = 0\n",
        "\n",
        "        for frame_idx in range(1, num_frames + 1):\n",
        "            action = self.select_action(state)\n",
        "            next_state, reward, done = self.step(action)\n",
        "\n",
        "            state = next_state\n",
        "            score += reward\n",
        "            \n",
        "            # NoisyNet: removed decrease of epsilon\n",
        "            \n",
        "            # PER: increase beta\n",
        "            fraction = min(frame_idx / num_frames, 1.0)\n",
        "            self.beta = self.beta + fraction * (1.0 - self.beta)\n",
        "\n",
        "            # if episode ends\n",
        "            if done:\n",
        "                state = self.env.reset()\n",
        "                scores.append(score)\n",
        "                score = 0\n",
        "\n",
        "            # if training is ready\n",
        "            if len(self.memory) >= self.batch_size:\n",
        "                loss = self.update_model()\n",
        "                losses.append(loss)\n",
        "                update_cnt += 1\n",
        "                \n",
        "                # if hard update is needed\n",
        "                if update_cnt % self.target_update == 0:\n",
        "                    self._target_hard_update()\n",
        "\n",
        "            # plotting\n",
        "            if frame_idx % plotting_interval == 0:\n",
        "                self._plot(frame_idx, scores, losses)\n",
        "                \n",
        "        self.env.close()\n",
        "                \n",
        "    def test(self) -> List[np.ndarray]:\n",
        "        \"\"\"Test the agent.\"\"\"\n",
        "        self.is_test = True\n",
        "        \n",
        "        state = self.env.reset()\n",
        "        done = False\n",
        "        score = 0\n",
        "        \n",
        "        frames = []\n",
        "        while not done:\n",
        "            frames.append(self.env.render(mode=\"rgb_array\"))\n",
        "            action = self.select_action(state)\n",
        "            next_state, reward, done = self.step(action)\n",
        "\n",
        "            state = next_state\n",
        "            score += reward\n",
        "        \n",
        "        print(\"score: \", score)\n",
        "        self.env.close()\n",
        "        \n",
        "        return frames\n",
        "\n",
        "    def _compute_dqn_loss(self, samples: Dict[str, np.ndarray], gamma: float) -> torch.Tensor:\n",
        "        \"\"\"Return categorical dqn loss.\"\"\"\n",
        "        device = self.device  # for shortening the following lines\n",
        "        state = torch.FloatTensor(samples[\"obs\"]).to(device)\n",
        "        next_state = torch.FloatTensor(samples[\"next_obs\"]).to(device)\n",
        "        action = torch.LongTensor(samples[\"acts\"]).to(device)\n",
        "        reward = torch.FloatTensor(samples[\"rews\"].reshape(-1, 1)).to(device)\n",
        "        done = torch.FloatTensor(samples[\"done\"].reshape(-1, 1)).to(device)\n",
        "        \n",
        "        # Categorical DQN algorithm\n",
        "        delta_z = float(self.v_max - self.v_min) / (self.atom_size - 1)\n",
        "\n",
        "        with torch.no_grad():\n",
        "            # Double DQN\n",
        "            next_action = self.dqn(next_state).argmax(1)\n",
        "            next_dist = self.dqn_target.dist(next_state)\n",
        "            next_dist = next_dist[range(self.batch_size), next_action]\n",
        "\n",
        "            t_z = reward + (1 - done) * gamma * self.support\n",
        "            t_z = t_z.clamp(min=self.v_min, max=self.v_max)\n",
        "            b = (t_z - self.v_min) / delta_z\n",
        "            l = b.floor().long()\n",
        "            u = b.ceil().long()\n",
        "\n",
        "            offset = (\n",
        "                torch.linspace(\n",
        "                    0, (self.batch_size - 1) * self.atom_size, self.batch_size\n",
        "                ).long()\n",
        "                .unsqueeze(1)\n",
        "                .expand(self.batch_size, self.atom_size)\n",
        "                .to(self.device)\n",
        "            )\n",
        "\n",
        "            proj_dist = torch.zeros(next_dist.size(), device=self.device)\n",
        "            proj_dist.view(-1).index_add_(\n",
        "                0, (l + offset).view(-1), (next_dist * (u.float() - b)).view(-1)\n",
        "            )\n",
        "            proj_dist.view(-1).index_add_(\n",
        "                0, (u + offset).view(-1), (next_dist * (b - l.float())).view(-1)\n",
        "            )\n",
        "\n",
        "        dist = self.dqn.dist(state)\n",
        "        log_p = torch.log(dist[range(self.batch_size), action])\n",
        "        elementwise_loss = -(proj_dist * log_p).sum(1)\n",
        "\n",
        "        return elementwise_loss\n",
        "\n",
        "    def _target_hard_update(self):\n",
        "        \"\"\"Hard update: target <- local.\"\"\"\n",
        "        self.dqn_target.load_state_dict(self.dqn.state_dict())\n",
        "                \n",
        "    def _plot(\n",
        "        self, \n",
        "        frame_idx: int, \n",
        "        scores: List[float], \n",
        "        losses: List[float],\n",
        "    ):\n",
        "        \"\"\"Plot the training progresses.\"\"\"\n",
        "        clear_output(True)\n",
        "        plt.figure(figsize=(20, 5))\n",
        "        plt.subplot(131)\n",
        "        plt.title('frame %s. score: %s' % (frame_idx, np.mean(scores[-10:])))\n",
        "        plt.plot(scores)\n",
        "        plt.subplot(132)\n",
        "        plt.title('loss')\n",
        "        plt.plot(losses)\n",
        "        plt.show()"
      ],
      "execution_count": 8,
      "outputs": []
    },
    {
      "cell_type": "markdown",
      "metadata": {
        "id": "2EdpJVCf3Suc"
      },
      "source": [
        "## Environment\n",
        "\n",
        "You can see the [code](https://github.com/openai/gym/blob/master/gym/envs/classic_control/cartpole.py) and [configurations](https://github.com/openai/gym/blob/master/gym/envs/__init__.py#L53) of CartPole-v0 from OpenAI's repository."
      ]
    },
    {
      "cell_type": "code",
      "metadata": {
        "id": "lf_Jkt_O3Sud"
      },
      "source": [
        "# environment\n",
        "env_id = \"CartPole-v0\"\n",
        "env = gym.make(env_id)\n",
        "if IN_COLAB:\n",
        "    env = gym.wrappers.Monitor(env, \"videos\", force=True)"
      ],
      "execution_count": 9,
      "outputs": []
    },
    {
      "cell_type": "markdown",
      "metadata": {
        "id": "artpBULc3Sud"
      },
      "source": [
        "## Set random seed"
      ]
    },
    {
      "cell_type": "code",
      "metadata": {
        "colab": {
          "base_uri": "https://localhost:8080/"
        },
        "id": "0zgxRODQ3Sue",
        "outputId": "625274da-3c29-4d67-ee7b-f2dca598aa1d"
      },
      "source": [
        "seed = 777\n",
        "\n",
        "def seed_torch(seed):\n",
        "    torch.manual_seed(seed)\n",
        "    if torch.backends.cudnn.enabled:\n",
        "        torch.backends.cudnn.benchmark = False\n",
        "        torch.backends.cudnn.deterministic = True\n",
        "\n",
        "np.random.seed(seed)\n",
        "random.seed(seed)\n",
        "seed_torch(seed)\n",
        "env.seed(seed)"
      ],
      "execution_count": 10,
      "outputs": [
        {
          "output_type": "execute_result",
          "data": {
            "text/plain": [
              "[777]"
            ]
          },
          "metadata": {},
          "execution_count": 10
        }
      ]
    },
    {
      "cell_type": "markdown",
      "metadata": {
        "id": "0n9bpEDo3Suf"
      },
      "source": [
        "## Initialize"
      ]
    },
    {
      "cell_type": "code",
      "metadata": {
        "colab": {
          "base_uri": "https://localhost:8080/"
        },
        "id": "QMWftgRp3Suf",
        "outputId": "667e0203-00a0-44f3-bb72-7d6a12ab6571"
      },
      "source": [
        "# parameters\n",
        "num_frames = 20000\n",
        "memory_size = 10000\n",
        "batch_size = 128\n",
        "target_update = 100\n",
        "\n",
        "# train\n",
        "agent = DQNAgent(env, memory_size, batch_size, target_update)"
      ],
      "execution_count": 11,
      "outputs": [
        {
          "output_type": "stream",
          "name": "stdout",
          "text": [
            "cpu\n"
          ]
        }
      ]
    },
    {
      "cell_type": "markdown",
      "metadata": {
        "id": "9hA7fsr73Sug"
      },
      "source": [
        "## Train"
      ]
    },
    {
      "cell_type": "code",
      "metadata": {
        "colab": {
          "base_uri": "https://localhost:8080/",
          "height": 336
        },
        "id": "PWwTS9IU3Sug",
        "outputId": "4dc60b1c-d290-42bc-945e-32f1939db940"
      },
      "source": [
        "agent.train(num_frames)"
      ],
      "execution_count": 12,
      "outputs": [
        {
          "output_type": "display_data",
          "data": {
            "image/png": "[encoded data removed]",
            "text/plain": [
              "<Figure size 1440x360 with 2 Axes>"
            ]
          },
          "metadata": {
            "needs_background": "light"
          }
        }
      ]
    },
    {
      "cell_type": "markdown",
      "metadata": {
        "id": "ZPOapC5m3Suh"
      },
      "source": [
        "## Test\n",
        "\n",
        "Run the trained agent (1 episode)."
      ]
    },
    {
      "cell_type": "code",
      "metadata": {
        "colab": {
          "base_uri": "https://localhost:8080/"
        },
        "id": "d5eOrZ4u3Suh",
        "outputId": "7cd5d04b-405b-4e0e-c8ce-3eed95682139"
      },
      "source": [
        "frames = agent.test()"
      ],
      "execution_count": 13,
      "outputs": [
        {
          "output_type": "stream",
          "name": "stdout",
          "text": [
            "score:  200.0\n"
          ]
        }
      ]
    },
    {
      "cell_type": "markdown",
      "metadata": {
        "id": "Pn3Sox_83Sui"
      },
      "source": [
        "## Render"
      ]
    },
    {
      "cell_type": "code",
      "metadata": {
        "colab": {
          "base_uri": "https://localhost:8080/",
          "height": 438
        },
        "id": "KurLx-_S3Sui",
        "outputId": "4715e166-d53d-49c6-94d9-c6d21c496421"
      },
      "source": [
        "if IN_COLAB:  # for colab\n",
        "    import base64\n",
        "    import glob\n",
        "    import io\n",
        "    import os\n",
        "\n",
        "    from IPython.display import HTML, display\n",
        "\n",
        "\n",
        "    def ipython_show_video(path: str) -> None:\n",
        "        \"\"\"Show a video at `path` within IPython Notebook.\"\"\"\n",
        "        if not os.path.isfile(path):\n",
        "            raise NameError(\"Cannot access: {}\".format(path))\n",
        "\n",
        "        video = io.open(path, \"r+b\").read()\n",
        "        encoded = base64.b64encode(video)\n",
        "\n",
        "        display(HTML(\n",
        "            data=\"\"\"\n",
        "            <video alt=\"test\" controls>\n",
        "            <source src=\"data:video/mp4;base64,{0}\" type=\"video/mp4\" />\n",
        "            </video>\n",
        "            \"\"\".format(encoded.decode(\"ascii\"))\n",
        "        ))\n",
        "\n",
        "    list_of_files = glob.glob(\"videos/*.mp4\")\n",
        "    latest_file = max(list_of_files, key=os.path.getctime)\n",
        "    print(latest_file)\n",
        "    ipython_show_video(latest_file)\n",
        "\n",
        "else:  # for jupyter\n",
        "    from matplotlib import animation\n",
        "    from JSAnimation.IPython_display import display_animation\n",
        "    from IPython.display import display\n",
        "\n",
        "\n",
        "    def display_frames_as_gif(frames):\n",
        "        \"\"\"Displays a list of frames as a gif, with controls.\"\"\"\n",
        "        patch = plt.imshow(frames[0])\n",
        "        plt.axis('off')\n",
        "\n",
        "        def animate(i):\n",
        "            patch.set_data(frames[i])\n",
        "\n",
        "        anim = animation.FuncAnimation(\n",
        "            plt.gcf(), animate, frames = len(frames), interval=50\n",
        "        )\n",
        "        display(display_animation(anim, default_mode='loop'))\n",
        "\n",
        "\n",
        "    # display \n",
        "    display_frames_as_gif(frames)"
      ],
      "execution_count": 14,
      "outputs": [
        {
          "output_type": "stream",
          "name": "stdout",
          "text": [
            "videos/openaigym.video.0.886.video000125.mp4\n"
          ]
        },
        {
          "output_type": "display_data",
          "data": {
            "text/html": [
              "\n",
              "            <video alt=\"test\" controls>\n",
              "            <source src=\"data:video/mp4;base64,AAAAIGZ0eXBpc29tAAACAGlzb21pc28yYXZjMW1wNDEAAAAIZnJlZQAAMFNtZGF0AAACrgYF//+q3EXpvebZSLeWLNgg2SPu73gyNjQgLSBjb3JlIDE1MiByMjg1NCBlOWE1OTAzIC0gSC4yNjQvTVBFRy00IEFWQyBjb2RlYyAtIENvcHlsZWZ0IDIwMDMtMjAxNyAtIGh0dHA6Ly93d3cudmlkZW9sYW4ub3JnL3gyNjQuaHRtbCAtIG9wdGlvbnM6IGNhYmFjPTEgcmVmPTMgZGVibG9jaz0xOjA6MCBhbmFseXNlPTB4MzoweDExMyBtZT1oZXggc3VibWU9NyBwc3k9MSBwc3lfcmQ9MS4wMDowLjAwIG1peGVkX3JlZj0xIG1lX3JhbmdlPTE2IGNocm9tYV9tZT0xIHRyZWxsaXM9MSA4eDhkY3Q9MSBjcW09MCBkZWFkem9uZT0yMSwxMSBmYXN0X3Bza2lwPTEgY2hyb21hX3FwX29mZnNldD0tMiB0aHJlYWRzPTMgbG9va2FoZWFkX3RocmVhZHM9MSBzbGljZWRfdGhyZWFkcz0wIG5yPTAgZGVjaW1hdGU9MSBpbnRlcmxhY2VkPTAgYmx1cmF5X2NvbXBhdD0wIGNvbnN0cmFpbmVkX2ludHJhPTAgYmZyYW1lcz0zIGJfcHlyYW1pZD0yIGJfYWRhcHQ9MSBiX2JpYXM9MCBkaXJlY3Q9MSB3ZWlnaHRiPTEgb3Blbl9nb3A9MCB3ZWlnaHRwPTIga2V5aW50PTI1MCBrZXlpbnRfbWluPTI1IHNjZW5lY3V0PTQwIGludHJhX3JlZnJlc2g9MCByY19sb29rYWhlYWQ9NDAgcmM9Y3JmIG1idHJlZT0xIGNyZj0yMy4wIHFjb21wPTAuNjAgcXBtaW49MCBxcG1heD02OSBxcHN0ZXA9NCBpcF9yYXRpbz0xLjQwIGFxPTE6MS4wMACAAAACLWWIhAAz//727L4FNf2f0JcRLMXaSnA+KqSAgHc0wAAAAwAAAwAAFgn0I7DkqgN3QAAAHGAFBCwCPCVC2EhH2OkN/wOssgGn2tAOB0JI5tLou4OWOnfkVBwKPKimry1kJNkxbhVJDV7h12shvkFYVVFpPG4ycMP8DQg9FUvA6LMl8fK14EJ+pmzLwQFZGITHOFsGy8VV5+jgreMjqqHveYGRuMZRU4AMzzOCZll9XfLzemLD8IrP/jwuPsuFAZUKFRFq8zBsALwQ10ll8EjHjkLQJmzgqVjf2v4k/30IyZqzD+JoWwlob1uWVWpTBFJ+iAKqHwqjrSLUhA8AATv4eGK33QupS6968mgoOlAROXrzsSIkx7ISL07AA45nfvRgEDKwGsLFVkzjl/auBRKj9euLGDmAoeoKZeJOYPMn6sMxdeXQBBP/VrKX3apTr7cqbVnPIx2UQeSyo47Bzs4A9Z7oLoVeosJP6+1gkZWQQHYeqhimHeD92kIKbpEcVGlN5N8ygPG3wHGi32EmfMZzM8NetjYwCHOVh8eHfjSndJekFVAOvGTrE+6qeDx+HMyg8+9kXP2UVzxV6r0cENa6da1bENbgqovhAzHFnp2ls5nE3/9VNLrDr8LG4BLW/RTk5gDmgAQxTSvUcG/DgCUj5C5ItUlOuDLnXQB4WSqAw+szqjAhB8hLlhPT/aS185/FpJ8d4ZnmpbWspkg+uchlnHMstBn8AAADAAADAAEPAAAA1kGaJGxDP/6eEAAARUsTuQDV9dxB3sTb2z7iqw129KL37TS+qsxKrJ6ZgF/mU7+eJGIHqrDotfczS/IIADnqYYedZ3NjyJBhbCzcH7H2zW8GystC3dF2Tcp0hzDcAeP+jyzQOfa4/yZI7gv/f3wRYeRmSYLCmj7cH9ptOXg9JxEcx+nXsNh1CX5IcSAP0PkI90LTr51G9j92eEwPa+/6Ho0K1pY2vuQy7Umn9NvLhfnJNwn4jU5wf2uUy8CHsQAAAwAABGJ4Pkz/XlB2D+0aJBiojenj7LgAAABIQZ5CeIR/AAAWtTt9vuYAVqFm5NWuQ9kJLS6SZfP/AX3U61o+R5az7W+iXFamHnLD59YjMGcQWSpEZeCEAAADAAam5/3eqAWdAAAAOAGeYXRH/wAAI8dW9/mnP/4KrrjVw7kku0tseVAlTAwS2luzbmA33ch45sAAAAMAAFPx/tsPiAVcAAAAKgGeY2pH/wAABR89TiFZpqF+vQ9Jismp/XhtfnreuAAAAwAACGWXB4QOOQAAAFdBmmhJqEFomUwIZ//+nhAAAENSc1gCjTFukZ7NT8UgBdlzZ6ztIzz6FUl/EU4lcq0i4MlZdz/+0h+QveLTCWfxaeCf9b2JnohlgjhypAFoh5Uh9Oc5n+EAAAAqQZ6GRREsI/8AAAMDOMgV3RD23i14STspenPSCvyFdjGLUMJ0VzWMCdK3AAAAIQGepXRH/wAAIrjCmokF2BSygbyGYlmgDkG13YfgtgAHTQAAAC8BnqdqR/8AAAUeTWfRUoqMc6Y77QRTRAANVNZ8qQxIhU1lmE6mABTu324vt22dUAAAAF9BmqxJqEFsmUwIZ//+nhAAAAMDs/ZFyR8hJyQALewHte/YUJ0Uab7zJd4rdf2eixpae5ibQaJgk9x26G7RuxALYLIGY6wV5bPGA+7Wd7lBxq/WGdfqA4QKo6ExJv4xggAAADBBnspFFSwj/wAAAwE0f/Q5ZfhPDzbUANzQSCEpDfGPZfX0CgL9xBOQKbaxttaTQ7sAAAAeAZ7pdEf/AAADAeW4nl/g1dKCE1EKUu8Ect8TUAl4AAAAIQGe62pH/wAAAwHmoKcqV8JAjknoIFNj+r9dOiAflUfFBAAAAG1BmvBJqEFsmUwIZ//+nhAAAEVFKLQBPzxea4Px9rHxGuvE1HNsrDdiypDvSrt96BlnCast5JybfutJhsVGNE+xYaBW/3/aYhOw4KHRUHaaawPs45S1fDofTx/wbLeC/a4xsVGkjAHWzLOJ8CrrAAAAOkGfDkUVLCP/AAAWtTeqYOjY6KHMnQekdvzLrIANt7Yvdd3u88iPX0OH5pBwsABMVpMCHrojmMyarTcAAAApAZ8tdEf/AAAjq/hcQjBIOE1mFu2XvMo6bAts8196zr8CcKh7PExUGVEAAAA2AZ8vakf/AAANf7aO2pQALUS8PPq0rv0EYGfyb6k4+OUFTa8/sqNR7WuMVYCkQvhNaOE3SBJwAAAAX0GbNEmoQWyZTAhn//6eEAAARUUpoABlke/BEghk+wfQNtbssXTlKWpgsqNF25kszjvZGaPR0riIMYwqOoP9YOrsD5YYpRG19jJLeIT63Y1DbzFNIAnR6bYaEPkHBtc0AAAANkGfUkUVLCP/AAAWvEcV/skTMJwQMAC1Ip20ilrYgpyb0f3YdgcnDSYdigbNH6BcjJsW27tMqQAAAB0Bn3F0R/8AAAUcUmnVseF0pq6Fnyiv+X9OesgoIAAAAD0Bn3NqR/8AACPVIQAjDnp5KeSdm6ws65HcuQjdVg7xXMcnpFvgMu+8RS7ohciVfg86QWKMKWAVyvEAbTKgAAAAYUGbeEmoQWyZTAhn//6eEAAAGlZIe7Yx1fFgAZbGLjcxDH7tuuWu3ALzZGlNx2prXEISTCY59tqEkK0K2D+7woB6WwoQMev2mXdxOeLZ66GfpXc2dz0255p/KtUYLd/3E7MAAAA/QZ+WRRUsI/8AAAhr+uU1U5AHJkGtwFC2IkGsaofjQPPKkjBHTn+NlH42YLG0XLlu3ZqKnFYDNz7QVHXuwO6AAAAAPQGftXRH/wAADX4A06tnkultXVvvgIAFpG6W15esv+B+/Y/iSnu0Ncqa17wJY+1CdZe+eZ/sT1DQI4ggk4EAAAAiAZ+3akf/AAAFHTAL7Ej65Vd16kOT6vSp+ZOOFXn77o+gYQAAAJRBm7xJqEFsmUwIZ//+nhAAAEVFQYScP68vceXANSu1ZhIGLsGX67ftkOnj/2f/WzLly2VoPWt3JEm/a2cbCJwo9jH4cr6Lb0Xj+/Viy70TnW6fVCfnqjU3+DEbar/8KzPwd2UTSXR/ezya/jCDR673dgigts/ETtIyiJMRC31xuIKmDkrnBvB7Mz5SlRV31A2HvMWQAAAAK0Gf2kUVLCP/AAAWveBWfGgsqowJA+qZ8nXOMwp4nYAwLcL7ephZ42dPkXEAAAAeAZ/5dEf/AAAjq/hnrLpHD5lmj4gFeDgr0NQImmVAAAAAIwGf+2pH/wAAI8e9i1GKbB754LmQ70fnqNTO3njKfgS32JixAAAAQUGb4EmoQWyZTAhn//6eEAAAQ2VjC2wBRjOdF3PV6847+l2kKpPdVsp0NO9lnJIERCkdzIaJyLEnwrnkiICPtIg5AAAAMkGeHkUVLCP/AAAWLE8gdpcFoxxUEEALZ20pAYD/EHr0JG8+x1LDPXWDmQ2kx90vhlMqAAAAKwGePXRH/wAAAwBFhi7RU564UDhgAQppdZ0Q9F239cyK2sqYX7XdlR0eUbgAAAAdAZ4/akf/AAAisjJGmk5uZaKLxEaVNMonMVgAGBEAAABdQZokSahBbJlMCGf//p4QAABFRSV38GG/2hRA3tCbd7lABlqw7pGdi+u+zslsIxwG/311TNM449EdMqNpJqFgzpDQp1upZ8bDNf4v6BfN+Du/T1OYCaGTxy+yDQVQAAAAWkGeQkUVLCP/AAAWvEPNvQOAImM2xgNr7u+rT3M357oPKxkGMzr/IP3hl66jLhfauqirrbP2B8H0ijwFxO5Pf73tc7YVw4klwgfQ/8kQY+SbIoNIZDCKIficqQAAAEABnmF0R/8AAA2F3S3IR0P8La/7hKzQEPBg+AC56rgGcLP9Xlo3qii2NX7MLb7Am3cc0w+kFEpR62bqwFITWTUwAAAAQAGeY2pH/wAAIpn5VbedPpwnQc9aWeqiEGEY/hwGQLng3bz0MHXKfL4APfktJklkC3xPfDRhq9fe1lEsEurEHdEAAABzQZpoSahBbJlMCGf//p4QAAAacxMNZp86AC03APYz+R/Y3Yepgqq8WKpnUr3dZQU+vumjO3ZjyE2mgTBDLNxocW9v/uz2D2ElCvKtdhvH5GncHZ+8TKCdix4k0duaY+qHcm++pxVh+8Pv3UqNUCiZDa5ybQAAAEhBnoZFFSwj/wAACG8h5jzY3AEPdJHebKv5aoIFiLbMvaV+VkWCaIEQtsSeCUoI+MfHZWUgjOtr645LjNdpO3m+QgUVt1QA9oEAAAAlAZ6ldEf/AAAFH8vshY++AkR8Xsg4zlLwvpm6oRpweFqjl2z3oQAAAC0BnqdqR/8AAA2ElSycQ1JEUOECobQKKHEG8tRhlV45E2BImXRk8cYyKfUgB0wAAABYQZqsSahBbJlMCGf//p4QAABFvis2TOdIQ89SjhkwNLbBUfHti5YUK+pSahmRaWhIPdFwYjR1K8eT/E1Ei6FG74HenJqhulFxTIsPkD3G6u6kQa6KP9v0EAAAADRBnspFFSwj/wAAFsifgDlZpXETECDnDHPIN/xKQHH8Qr6pKIyPxZpKAGPHHRJf46c6RxD/AAAAMAGe6XRH/wAAI8MXZeCaOzA6bf999adf5jB4EkFvHQATG1EAIsRewE8fOgyBwsy2YAAAACgBnutqR/8AACOxzAnsfAaTMMGujh9tA+a4SoAH7D5cjV0neWRj6gl4AAAAY0Ga8EmoQWyZTAhn//6eEAAAGbc64CaIHxypLqy50CxJH8bc5nV2rDp2zduLDC5iA5XtBiNmTM92NYZd8hGLOg/0jgG7tLC2ohUZB5zhtQZWHsHzRNXB1m4EOuvOnIk2G2G44QAAAD1Bnw5FFSwj/wAAAwMiQ+bGVHtOIWVYwArqUFrY6IHRXkNlCFmPN2a1WW2jiFWphUT2P6FfFaIy95Cq+tDZAAAAGQGfLXRH/wAABPvQcxuJTeNKnf3lChacpeEAAAAhAZ8vakf/AAAE9XLpj+JD7vImq8oge8BM24g+BH3nPbY+AAAAYkGbNEmoQWyZTAhn//6eEAAAQ0ltYALDDoCXcYjwrmm6zVbJvHXsF7fEfmktdSADf2uFT8J3wQzILUewnT176LgylRSEmGgVsHHko8cZTZnPTqslvEBdisa/go4JfA2pKYGAAAAAIUGfUkUVLCP/AAAWJVwYRCST/uR3I8EWTtw9hW5WDAdBwQAAACMBn3F0R/8AACLDQljQ+SqjrqPCZ9ABK+fdGpzIKmNs5pUEfAAAABoBn3NqR/8AACLHx5tXHMpt/eEn3NyIJ4gd0AAAAHNBm3hJqEFsmUwIZ//+nhAAAEVF1aAA6JYCvNcZt1sBR6BWj2rJD39wTIs1KZNs4f91L/AhKLf8DxD/d33lPSSlCaZhsxOnRhj7ZiIHn7m6RZjKqBaEZh1bwqi33j9TCWCfc9kVEtej/uJE1KIeYjwoy33pAAAAM0GflkUVLCP/AAAWvEPNuJQLU5PlmLjMJhUb68HV83jd2AAWkCtG76k83//i/QIcvcnUNgAAACoBn7V0R/8AAAT8mEEZInN6Nc7a9cXqdkOVX47xggA9x4oKLWqeu69Hb0EAAAAsAZ+3akf/AAAjvwQnGM3qujoqJG5c9OnNIe9QAJ1hoemns4cEnC5QFcEPBB0AAABZQZu8SahBbJlMCGf//p4QAABFum8/4xFwILxJyP/HKfx4EHcyie45gPp0gApVHwjyYbz9hOrIsFEZF0Ja/iiRO+eiSdmW3CDl2HK5HHRCleQVJRzJD96W474AAAAnQZ/aRRUsI/8AABa1RAVGfI25GT9aeS1PIq8wBTqPpgBpLzsAZwFxAAAALQGf+XRH/wAAI8jqQgCgxvQTl56DePOxMO5CgdPo/c8NU5CDJifP47Z9DLSbgAAAADABn/tqR/8AACPHr4QL4UOe2m4/Hrq9PBg5rpReACdUn/eQDdTpfqN5gpCm5K5ql5cAAABwQZvgSahBbJlMCF///oywAABGAs9Xf/XHHQATt6hAMhHQhrzX3HJZoovpu5UMKmWhLvaXhMsak7mx02L53Us9VLZ5vPvNtXx4tZcgdQLP0gQy1X04rMpsVOS2cji0r3CT/grDM0ivU8wKFGEjpnTmkQAAACpBnh5FFSwj/wAAFr6hBmb4OWHSci6DAJTzipNDa0oivSQU7sfRxsr8Q2AAAAAuAZ49dEf/AAAjsQ3iAKDG8684t1nKxye6f9QlEMujfmK+6ppPiu6nMuCeNWAj4AAAAB0Bnj9qR/8AACOxhaADmPGamCUPK1OoFNOxCkJRTQAAAEhBmiNJqEFsmUwIZ//+nhAAABpaC3Qv8QRKtuesHgLORn3yOmfC2/L+bEeogAS62uRgfvX+fOOEUs6ZQ9qYFZ1QhQ39LZeGhsAAAAA9QZ5BRRUsI/8AAAhr+uHaPvLGcBROVnxbC7BLZayC3ERAAjKXDI+uSI4El5Q2magWJjIX6cDJeEI5/UtFYQAAAB8BnmJqR/8AAAUYbW5DAerVIiZ9TspnyP90iyw5QPZgAAAAYkGaZ0moQWyZTAhf//6MsAAARgLT3gNM5B78RlS7gFH6LqqjIyy5xNHMTGtsqqsngFYQpYk4kIVhz1P08PSuHv7o9TuQUD1fJQQ1yrKtFHPqS49bK8Rjv8zIx2xDBngwiu9LAAAALUGehUUVLCP/AAAWvE5rRS/XgH6pf2ADjd0Q0WkIlIPOPMvkq0YVrtAgz1CDkwAAAC8BnqR0R/8AACLDQLExMteh6MAF5V/AO0t39XK+Zsl00864Jiv0BNjoHmT1s1OQEQAAACcBnqZqR/8AACOxzBDkqAEOXrrrf7QkIV4AzNGCMkMgPfeA38Tcm1EAAACSQZqrSahBbJlMCF///oywAABGDlv1fZ/ACgGFCXe00RHCfUSIrvJ8axwYCo968vPGuG7je5DChyU9I+giJZ3Or1k/Jfpj8dqIs9qS7jc7jPk8tW2pbeyyNBbR/oM16DEFSfX4ckWoGsIX7EiCk25Y/QviHd2KHJfBjvYA/Z7n8QdmQTDH87L43MFXQyj8YeGp1YAAAAAuQZ7JRRUsI/8AABa8Q8++ULqHpxv1D0AH94Zheh9FoF2nijJqrsierItCs7m8GAAAACYBnuh0R/8AAAUcUmm9ngAtml827dq5QdNKz/JBl9Rf1fmZday2zQAAABwBnupqR/8AACO/BCvVz1GcAn5/ROTB1JcHXfyTAAAAYEGa70moQWyZTAhX//44QAABDTn1OOQ2zAQiVHY2m+lE8jjKqBSXLMA8edPozkv+spAzt+bdaBQEKjWSmcwOtHyDzGq2z4mw7evQJVDvriw/1CtAKqxwtn07U+BUNx1loAAAAD1Bnw1FFSwj/wAAFrw9LmOegAEZFxkSUZXNWZyk5bS+3zrQe93TlT+krZdXnMbVk87rUUmi1qsFGm80UzwZAAAAJAGfLHRH/wAAIqxCYf8bH8UMBXEjSZCUH8njTj/jXlZhZtL8GQAAACkBny5qR/8AACO/BCdht2hZwdqhUJ7ojmI7kY3mkgA2oA7Zv+UfwLlVGQAAADBBmzBJqEFsmUwIX//+jLAAAAMDurGZtBSRMcIgkAAarpatPD+2zJXI5RL0odDVNmAAAAB6QZtUSeEKUmUwIV/+OEAAAQUU7EDInyVox5NtoKYk6W09+u9QybZXrLwYc6wX86F4l44SoryQZ0oac0DGDYh7UuUqSv0Xzt3n1VWeXOIUvRu996Qi2Uk06uvv8HobDU3krkiuEQB7sld9ts5sM3LQD7StsJ3mKKaG0YAAAAA9QZ9yRTRMI/8AABYsULe3LN+Yz7Ds0P6lgANtSMWkUmk8IlaQJiJwPiSpXTdAjlVucW9/XpbE/lBDNERtuQAAACIBn5F0R/8AAA2F3S/47rvRoJILKXxrVsSMX/xpEUspDismAAAAIAGfk2pH/wAAIrI8wkfSIqcebqMdR/VaD3sqG6WBMS+YAAAAXkGblkmoQWiZTBTwr/44QAABDnNEHwBoNYMKUXL0cLPViqydNzrASlggBPrXzAxH51AmWM7GQNgMx+Dnk1RnXgFyLo2kYfZgnjFNNu6rq/6kM5ioL9ZCSeq4jSkTUhEAAAAvAZ+1akf/AAAjscwJb9tMSLIB7QH3Yw9Rzlqwoqg/sg4APYVxxvb+VkaOHNNhWzAAAAAiQZu3SeEKUmUwIX/+jLAAAAoHG6BNPEKbN8GlGeWr/vh8wQAAAG1Bm9hJ4Q6JlMCGf/6eEAAARVS/BoA3aJLKZCYj/zxHbb2US5U9O2631DD/W5XPiqsLcqXFBJWfcNN9Fc+TzoyVdcpU229lZ0di4Oi5Y+WrS7oritfv5qbtgxdfF3W9oY2+C+R/81MckxeqN/A1AAAAOEGb/EnhDyZTAhn//p4QAABFUT6eCn531yXVFgaCoNOMjd6gVr9FrKQrlI3MWu5uytVddRcxmbT4AAAAMUGeGkURPCP/AAAWvEPNzHRVJl3E6acCRSgDcRcuxir/K5YPL3fRsAKk8uNnCwCRqVEAAAAvAZ45dEf/AAANhd0v9mZNsNW7zt/zmhXCZsxZgACAqc6UZcEqbD16+TRgSsqKW3AAAAAwAZ47akf/AAAjvwQnXyZsndr0MS1JoBjlejiuyJrDAA/cd60B+udx3Mg/sjaP4KmBAAAAJkGaIEmoQWiZTAhn//6eEAAAAwO0U0w1HCcPXjd8/Bj1Ho1wHBNxAAAALkGeXkURLCP/AAAWwL58ARIOLzokRC3NKnQcV7AR0d4lHXVxiVh2xk8ZcvbuSYAAAAAfAZ59dEf/AAAjwxd1++0m8fHF59JhaU59s+ey26CowAAAAC4Bnn9qR/8AAAMB5v3Zf4fuiHFFKzSD00QUIgAg6nOlF79Cyw9eyS5hSKAm3HJNAAAAOkGaZEmoQWyZTAhn//6eEAAAAwO0VgYjX2gm7AdmXbP36vSBob2AIR/C8/f97xaXCRn8CSwkzgvHYZkAAAAdQZ6CRRUsI/8AAAMBNbFi2FpfKmujUCx8dyUgkYEAAAAgAZ6hdEf/AAADAeWKUtLVrkQSttep0uIALA8o3PKoD7oAAAAWAZ6jakf/AAADABpq/6MsKxGRN+uoIQAAAFlBmqhJqEFsmUwIZ//+nhAAAEVBVjgKBvl36GaY0a5llJOm1UJAYHL1EQVU29poIqvX6K3d5OZi3B5G1A6GtuXJiR2pZE+kC9bP/lipXfS+wLR0wUcwurnaYQAAACBBnsZFFSwj/wAAFrxPHtU6iJBRnRH5V5JGgn+4ME7ZgQAAACcBnuV0R/8AAAMB5vWcSi5+98XzOzAAbPVz7SrN0P5KfJobDinbvBkAAAAWAZ7nakf/AAAjvxxVpRTjm64nJiCDgAAAADNBmuxJqEFsmUwIZ//+nhAAAAMBavDvQv8QRKRiGj049LJ43MyaACtakGGy3bz5Bg4dLpYAAAAqQZ8KRRUsI/8AAAMAc/+k3a2pDNACWHK9NySE8y+gvboSRsCC91bUN+DBAAAAFQGfKXRH/wAAAwC5jckcYagxf8KPuAAAABkBnytqR/8AAAMAGm8bhrQyY5dnR1hSQduAAAAAPkGbMEmoQWyZTAhn//6eEAAARU5guSEUnBu0Mj7wAHJk2FTeKVscMGNJw3zWKkKzedWcwuFLulugbtDAEvyBAAAAFUGfTkUVLCP/AAAWvEPPhCuTm8QR8QAAAA4Bn210R/8AAAMAAAMBqQAAABMBn29qR/8AACO/BCvAcovUR2DAAAAAckGbdEmoQWyZTAhn//6eEAAAQ0ltYAUAzgs5UVFKL33RcynL/iY2b8s2hh4sg7fSU1GhHjcW/RSo9xCxM2Jaz4RsKR12oeTNcdosQaECldG88vn7ITkAkeZZZOTV/JPs8FtVqWDe6+s8afpX3t1NW5mawAAAACxBn5JFFSwj/wAAFixPIHaXBaMheweCSAAnWEB6fq1alX9WE6RinpRw7liAgQAAAB4Bn7F0R/8AACPIYaYEGstP11Z1FiKIytJy7yWyztwAAAAlAZ+zakf/AAAivxxY96Bz2SOs2uazjEAAQFTo1bJzooeriCkHdAAAAHFBm7hJqEFsmUwIZ//+nhAAABpxLwl8AH7rmoDd/JDaN8DalpJBbqUPT9HL9pxiehxHT09ZrsjTnF9uYhnoZbnOUF9YCGnTnuf7j2FqJI9D2JbQztlPhCCBl437fP3Gfn7cqTM3fnAGETkAG9WIAVAmgQAAACVBn9ZFFSwj/wAACG8h5p+yFoAbV8UhDs/epTwfsFdf5RodfW3AAAAAEgGf9XRH/wAABR0PYJu+zi4DPwAAABwBn/dqR/8AACOo3dIorRGC61bLuAotj5QENHbhAAAAR0Gb/EmoQWyZTAhn//6eEAAAGlkHhJz2KieVXPnZUAlQ0zmpa9o41rthOzb+Pt4ay/G6xuD4r01BsmSjIdDOL79CpuXlT8sWAAAAKUGeGkUVLCP/AAAIbbxVjmabMpGLYtAAlqsgOR1MkDExAGJAA5NWJq2BAAAALQGeOXRH/wAAI8C45MInWQ47VCHHIOUiwGsKjnDrmnuIAJqeFVRTDYEbBF3bMAAAABwBnjtqR/8AACOuXj2F6SL8eMFeeaKfHHcHkG1BAAAAbEGaIEmoQWyZTAhn//6eEAAAQ0ltYAOgbwWiMvPmuK9Ro9Ev8MkqMvqmMyyMkZS4/G3PmDTxPs5GUxob7UhAIAKoxQtz1P8XlKeH2FC1JHLlOxx6mqbgVEzEa4NI8c4KCuJ7suGANOkYExGAXQAAADZBnl5FFSwj/wAAFixQtd+j62eupIbbFG2G5DiGvMzh0AFxa+z34ocbKEfXQBU58z/gwvMfWzAAAAAjAZ59dEf/AAAjwLjkwaXFS5YwulOe+Si66qbvT59/2y7mpUAAAAA0AZ5/akf/AAAj1SEAIwAXre+5ybb6FuKpVegW21YOIsUr9N7KfN4ex98MZyo8ZlO6ywLZgQAAAFtBmmRJqEFsmUwIZ//+nhAAAEVFKLQBxSi71UtVCrsYtA3ZC3ceGvw3Orn3WEQ8efPiHNS4tFIDRKfKni4lbu2iFQhOUjMYLaWO1z/qAwjwOe9JJ8siiQuxw0uoAAAAIkGegkUVLCP/AAAWtSs3a4sP7EwcRVfXjboRiyekzIPsjwcAAAAjAZ6hdEf/AAAjwxdqAS6xTCw9zoeDZ5OIWRsMZaAsXQ/pskwAAAAWAZ6jakf/AAADALomAeoXibPM06K0gQAAAHJBmqhJqEFsmUwIZ//+nhAAAEVrRgSAN1qedF0X7gBSzpieBPUtLoyqHTQ+2wlSdTy5XvQFioyatvLabMMGYZjI0ZmVU+Z6nVhDQuZ7Ls986AXyXhf54Z++9VBJDMpnssGlRoI20SEE6aQBaNtOEsHDVF0AAAAeQZ7GRRUsI/8AABa1K0Mm/Z+QUpNVA6mC5wnsStuBAAAALAGe5XRH/wAAI8MXdVOH8caBomCHi3zABdRLXqgEmQwg4zYBOvSXD3iVPZtnAAAAGAGe52pH/wAAAwAaaSpetV8360RLc3j8GAAAACtBmuxJqEFsmUwIZ//+nhAAAAMAhyz+M8AB2RTJPFKXptV69/y65CZnhgg4AAAAHUGfCkUVLCP/AAADACxYh5v7bNGWxAfGQ3o0tPBhAAAAGgGfKXRH/wAAAwAab3MFxdZCbKrkISJaY++zAAAAGQGfK2pH/wAAAwBFfghOJaQRx3Jv8ffgNswAAABDQZswSahBbJlMCGf//p4QAABDSW1gBQDOCzorlX+oQzxZ9pHoVYzNgC2dmdVRsL34JVmsNKReft8vuaJwcJXH0OMvgQAAAB9Bn05FFSwj/wAAFixO6UrDkpjsNWpOvZkUdPWBdOknAAAAFQGfbXRH/wAAAwBFkAiN+COhdLjugQAAABwBn29qR/8AACK/G97+TOwQgmsnTfbP8XUqf8duAAAALEGbdEmoQWyZTAhn//6eEAAAQ1IGnpul98v+zN2Mk8HuXJyWSWgKDikKtFiwAAAAHEGfkkUVLCP/AAAWJVppXGtH5clfXVoqsqxXIckAAAAZAZ+xdEf/AAAirDxtu7CKTKMpqAGvktIOSAAAABYBn7NqR/8AAAMARYPztjlVqa763MeAAAAAKkGbuEmoQWyZTAhn//6eEAAAAwCGkS5ABzO86jhwqkhnRpO0qjkxChgg4QAAAChBn9ZFFSwj/wAAFrCG0AHGPxkkXBtVyU9ZEY5Xk9UiLSI73AhsGRLwAAAAFwGf9XRH/wAAI8NAEK696GRohC9qNQtpAAAAFwGf92pH/wAAI65e0aG1m4bTd4eOaBTRAAAAOUGb/EmoQWyZTAhn//6eEAAAAwCGqhrNVaoqvtnz1NpcAsAQDClP7KIZJEU1b6wE8Xd45JVF1bc3QAAAACZBnhpFFSwj/wAAAwAsSlZu1zAg03wAF0f/JoSnIiky7lR+gO3bcQAAABoBnjl0R/8AACPAuN/DZCkrdtepHDAoqGg7oAAAACcBnjtqR/8AACOuXjOGwy9b4AJY/NEbmImwYPJbmdcA0FiFjPUZG2cAAAAyQZogSahBbJlMCGf//p4QAABFRSXJ6Wgb+w72hfNgiEgAtTfncv03bdwzz0Buxlkfq+EAAAAVQZ5eRRUsI/8AABa8Q823FcyxrgE3AAAAHgGefXRH/wAAI7iv28UBqAC3iVnulEBJrmRnE+AEbAAAABQBnn9qR/8AACOyKu6sUzyqergE3QAAAGlBmmRJqEFsmUwIZ//+nhAAAEVOYScP6Ah+XAHKNapPlzcpsUr74wfLlehuRv0gtF6f2NJPDhyyHro0gCo5M7G43+fTkgGfRFxkQep297pvWLDQ9yJIyBQlEZrVy/rAg+RGgSZfLgBIYoAAAAA2QZ6CRRUsI/8AABa1HFLbCQAcKuwUaeRv5pSeT3X6NBLYDQMiJc+16x7hDi+XV/y8BGOWcvJVAAAAHwGeoXRH/wAAI8NCUJ+/f//xQ/SRP1hCWHFHzP4RICAAAAAeAZ6jakf/AAAjx72MQL7hijGL9sUgw48qPkYkDaghAAAAUkGaqEmoQWyZTAhn//6eEAAACf+z+PNpPQH3PRwAcb14XnFKC591kCsY+z2sVTxC4Hv32RcZtg/hYyS6Hx5QMpjhdEheyi10szxh0g6c0Ki/GE0AAAAiQZ7GRRUsI/8AAAMDOFJRhCplsGUczQLF7nBMNFxjH0rbgQAAACYBnuV0R/8AACLIcDmABxgJ6xzj4xYlxECMApmAEsNoNfXfMmPn3QAAABoBnudqR/8AAAMB5n/VbGss6wujkAqwO/ytuAAAAF1BmuxJqEFsmUwIZ//+nhAAAENJbWADoG7uv72iEIhkrLP9/TDKi4VCOwRpPGwV3ianMv0wwcuJsfZfbKAzP4l8AcOCVt6rzbqE7D6aurBSStWPKVriT+NBrdzF0/IAAAApQZ8KRRUsI/8AABYsTyCM5lf+uQA4LY9hqfZQ1J4F4SB7w1SBkZofq2EAAAA0AZ8pdEf/AAAiuMIsT/o+VjiGtK+MMulFhyY4kFKTT6AAuGEP8yu30fXZST3I/DsgF1PBgAAAABgBnytqR/8AAAMB5n6WnpAosBdKalsWdMAAAABgQZswSahBbJlMCGf//p4QAAAJ+d9IHAAnbVSUldY0ommlxON7Nyxe1mYgR7LdtxA9RH+MEpnsIZgWut3tAvlFg9TYkHiMkLRmazjVbsZTUS49v1tU4iGzAXtyzHCSC6gFAAAANUGfTkUVLCP/AAADAzjJNl13hENFAZnMB4qdRi2tloHBN/xw7F45GlHhXwjNGbj+1DhdOnbhAAAAHAGfbXRH/wAABR/L7T8QyJoK3UI3vIKExsoxEgMAAAAeAZ9vakf/AAAFGXJzUh+bPOl/w+vnjQzuuq0FP7wYAAAAUUGbdEmoQWyZTAhn//6eEAAAGloO/f/TbpaACwJtCxJMAV6IsX1UfldrtjmAj1yITLnHBRQJzR68Fo4YJ+XzuxR+wbj3UUP2JHiWFkYQdrWPgAAAAC1Bn5JFFSwj/wAACG8h5uXnSj969Y7AAjIzbGA2vvjpau8kqyHqC+lVA92b5lUAAAAYAZ+xdEf/AAAFHPr9EEH6tAUEP7PpMC2gAAAAGQGfs2pH/wAADYSVLJKi+WSZJoGjtAFog7oAAAB5QZu4SahBbJlMCF///oywAABGEQXdxACfB3Zz2m1sXHjzzhrf+RcBTplPqOcWsNNL9EL+vxB52n3l+y40sU3qyWBXILgEVgA3i2uCW2JJqkgTpDkDotoNrew9NB/UVYFNiMiTbMbrF7Lj2y/uPiL5cObWAg5O9TrLEQAAACxBn9ZFFSwj/wAAFrk4yl21QBWQh2em4KYbov8372pNWnsssHJU58whJT2tuAAAACEBn/V0R/8AACOr+GeCckydiFaGjf7ABa6RDrvH1p/eds0AAAAsAZ/3akf/AAAjvxGpIANyddjN2z4+0JACicfZa2QsN9VFCQSxU8ylLvwe3KkAAAA6QZv8SahBbJlMCF///oywAAAar+WNANRWMhadDhW0Oir6bNOIA3n9rsvpMgS0YYLpRTw97ERGH9i9qQAAABtBnhpFFSwj/wAAAwBzyfN8hqKPJlj1ROTBmXEAAAAVAZ45dEf/AAADALp5fafiK+V26CHgAAAAMgGeO2pH/wAAAwC6dcF5yq1ODCoUkQkAC6iWqaf5l3k2O8VcISWKTLJMvGqzql9Way79AAAANkGaIEmoQWyZTAhf//6MsAAARgL245tCaZpgACIM+ZIryYoLW92OU7NplytZKeLduxxASfC+pQAAADNBnl5FFSwj/wAAFrUrON+NwL1dyh3p39fyiYZ8IGACG4lBOyVpCY6VHUGbwlc1eu7ZQMAAAAAeAZ59dEf/AAAjwxdoqcbUfoEViV2qCQVy/CvsRK24AAAAIgGef2pH/wAADYI0bmQN8tRKdGYaqBZKQpJw9CO+39yXaGUAAABBQZpkSahBbJlMCFf//jhAAABm7FcpWmSDrAAdeaJjM5W9yNzvBK/xcSEfceirmJzwxmylYhC277O3bZFkY3QQDjgAAAAuQZ6CRRUsI/8AABYsUK/VQJLiH8KK/tjrgACw5PLtKmfSG1BBk1dopZWNHn+UEQAAADABnqF0R/8AAA1+ANfj6GtJ6CzqbM8gAXUS1TT/Mu8Wx3irhCSxSZZJl41WdUmVtWAAAAAbAZ6jakf/AAANf7aNe283P4WoTsNDIOxuWDuhAAAARUGaqEmoQWyZTAj//IQAAA/volFqysmlrolAwAWn9vfU3gGJWn3RLc+psjw9YY3wqmsHjhEAMtRMf1+U+ZnaCxZCaVDKgQAAACxBnsZFFSwj/wAAFrMsLLZVaTifiWvidwBXgi7zsghOUALbwFCJ+RS7R/OCwQAAACEBnuV0R/8AAAUgjSvi29rpDV+grqn9lOU8K5+DYuEjOSEAAAAzAZ7nakf/AAAjvwQnEtDJJ8S6axTdQdqZoTtBebG8ALU5ccb2/AwlfjGwFkTd1q2lpSowAAAMb21vb3YAAABsbXZoZAAAAAAAAAAAAAAAAAAAA+gAAA+0AAEAAAEAAAAAAAAAAAAAAAABAAAAAAAAAAAAAAAAAAAAAQAAAAAAAAAAAAAAAAAAQAAAAAAAAAAAAAAAAAAAAAAAAAAAAAAAAAAAAAAAAAIAAAuZdHJhawAAAFx0a2hkAAAAAwAAAAAAAAAAAAAAAQAAAAAAAA+0AAAAAAAAAAAAAAAAAAAAAAABAAAAAAAAAAAAAAAAAAAAAQAAAAAAAAAAAAAAAAAAQAAAAAJYAAABkAAAAAAAJGVkdHMAAAAcZWxzdAAAAAAAAAABAAAPtAAAAgAAAQAAAAALEW1kaWEAAAAgbWRoZAAAAAAAAAAAAAAAAAAAMgAAAMkAVcQAAAAAAC1oZGxyAAAAAAAAAAB2aWRlAAAAAAAAAAAAAAAAVmlkZW9IYW5kbGVyAAAACrxtaW5mAAAAFHZtaGQAAAABAAAAAAAAAAAAAAAkZGluZgAAABxkcmVmAAAAAAAAAAEAAAAMdXJsIAAAAAEAAAp8c3RibAAAAJhzdHNkAAAAAAAAAAEAAACIYXZjMQAAAAAAAAABAAAAAAAAAAAAAAAAAAAAAAJYAZAASAAAAEgAAAAAAAAAAQAAAAAAAAAAAAAAAAAAAAAAAAAAAAAAAAAAAAAAAAAAABj//wAAADJhdmNDAWQAH//hABlnZAAfrNlAmDPl4QAAAwABAAADAGQPGDGWAQAGaOvjyyLAAAAAGHN0dHMAAAAAAAAAAQAAAMkAAAEAAAAAFHN0c3MAAAAAAAAAAQAAAAEAAAZIY3R0cwAAAAAAAADHAAAAAQAAAgAAAAABAAAFAAAAAAEAAAIAAAAAAQAAAAAAAAABAAABAAAAAAEAAAUAAAAAAQAAAgAAAAABAAAAAAAAAAEAAAEAAAAAAQAABQAAAAABAAACAAAAAAEAAAAAAAAAAQAAAQAAAAABAAAFAAAAAAEAAAIAAAAAAQAAAAAAAAABAAABAAAAAAEAAAUAAAAAAQAAAgAAAAABAAAAAAAAAAEAAAEAAAAAAQAABQAAAAABAAACAAAAAAEAAAAAAAAAAQAAAQAAAAABAAAFAAAAAAEAAAIAAAAAAQAAAAAAAAABAAABAAAAAAEAAAUAAAAAAQAAAgAAAAABAAAAAAAAAAEAAAEAAAAAAQAABQAAAAABAAACAAAAAAEAAAAAAAAAAQAAAQAAAAABAAAFAAAAAAEAAAIAAAAAAQAAAAAAAAABAAABAAAAAAEAAAUAAAAAAQAAAgAAAAABAAAAAAAAAAEAAAEAAAAAAQAABQAAAAABAAACAAAAAAEAAAAAAAAAAQAAAQAAAAABAAAFAAAAAAEAAAIAAAAAAQAAAAAAAAABAAABAAAAAAEAAAUAAAAAAQAAAgAAAAABAAAAAAAAAAEAAAEAAAAAAQAABQAAAAABAAACAAAAAAEAAAAAAAAAAQAAAQAAAAABAAAFAAAAAAEAAAIAAAAAAQAAAAAAAAABAAABAAAAAAEAAAQAAAAAAgAAAQAAAAABAAAFAAAAAAEAAAIAAAAAAQAAAAAAAAABAAABAAAAAAEAAAUAAAAAAQAAAgAAAAABAAAAAAAAAAEAAAEAAAAAAQAABQAAAAABAAACAAAAAAEAAAAAAAAAAQAAAQAAAAABAAACAAAAAAEAAAUAAAAAAQAAAgAAAAABAAAAAAAAAAEAAAEAAAAAAQAAAwAAAAABAAABAAAAAAIAAAIAAAAAAQAABQAAAAABAAACAAAAAAEAAAAAAAAAAQAAAQAAAAABAAAFAAAAAAEAAAIAAAAAAQAAAAAAAAABAAABAAAAAAEAAAUAAAAAAQAAAgAAAAABAAAAAAAAAAEAAAEAAAAAAQAABQAAAAABAAACAAAAAAEAAAAAAAAAAQAAAQAAAAABAAAFAAAAAAEAAAIAAAAAAQAAAAAAAAABAAABAAAAAAEAAAUAAAAAAQAAAgAAAAABAAAAAAAAAAEAAAEAAAAAAQAABQAAAAABAAACAAAAAAEAAAAAAAAAAQAAAQAAAAABAAAFAAAAAAEAAAIAAAAAAQAAAAAAAAABAAABAAAAAAEAAAUAAAAAAQAAAgAAAAABAAAAAAAAAAEAAAEAAAAAAQAABQAAAAABAAACAAAAAAEAAAAAAAAAAQAAAQAAAAABAAAFAAAAAAEAAAIAAAAAAQAAAAAAAAABAAABAAAAAAEAAAUAAAAAAQAAAgAAAAABAAAAAAAAAAEAAAEAAAAAAQAABQAAAAABAAACAAAAAAEAAAAAAAAAAQAAAQAAAAABAAAFAAAAAAEAAAIAAAAAAQAAAAAAAAABAAABAAAAAAEAAAUAAAAAAQAAAgAAAAABAAAAAAAAAAEAAAEAAAAAAQAABQAAAAABAAACAAAAAAEAAAAAAAAAAQAAAQAAAAABAAAFAAAAAAEAAAIAAAAAAQAAAAAAAAABAAABAAAAAAEAAAUAAAAAAQAAAgAAAAABAAAAAAAAAAEAAAEAAAAAAQAABQAAAAABAAACAAAAAAEAAAAAAAAAAQAAAQAAAAABAAAFAAAAAAEAAAIAAAAAAQAAAAAAAAABAAABAAAAAAEAAAUAAAAAAQAAAgAAAAABAAAAAAAAAAEAAAEAAAAAAQAABQAAAAABAAACAAAAAAEAAAAAAAAAAQAAAQAAAAABAAAFAAAAAAEAAAIAAAAAAQAAAAAAAAABAAABAAAAAAEAAAUAAAAAAQAAAgAAAAABAAAAAAAAAAEAAAEAAAAAAQAABQAAAAABAAACAAAAAAEAAAAAAAAAAQAAAQAAAAABAAAFAAAAAAEAAAIAAAAAAQAAAAAAAAABAAABAAAAAAEAAAUAAAAAAQAAAgAAAAABAAAAAAAAAAEAAAEAAAAAAQAABQAAAAABAAACAAAAAAEAAAAAAAAAAQAAAQAAAAAcc3RzYwAAAAAAAAABAAAAAQAAAMkAAAABAAADOHN0c3oAAAAAAAAAAAAAAMkAAATjAAAA2gAAAEwAAAA8AAAALgAAAFsAAAAuAAAAJQAAADMAAABjAAAANAAAACIAAAAlAAAAcQAAAD4AAAAtAAAAOgAAAGMAAAA6AAAAIQAAAEEAAABlAAAAQwAAAEEAAAAmAAAAmAAAAC8AAAAiAAAAJwAAAEUAAAA2AAAALwAAACEAAABhAAAAXgAAAEQAAABEAAAAdwAAAEwAAAApAAAAMQAAAFwAAAA4AAAANAAAACwAAABnAAAAQQAAAB0AAAAlAAAAZgAAACUAAAAnAAAAHgAAAHcAAAA3AAAALgAAADAAAABdAAAAKwAAADEAAAA0AAAAdAAAAC4AAAAyAAAAIQAAAEwAAABBAAAAIwAAAGYAAAAxAAAAMwAAACsAAACWAAAAMgAAACoAAAAgAAAAZAAAAEEAAAAoAAAALQAAADQAAAB+AAAAQQAAACYAAAAkAAAAYgAAADMAAAAmAAAAcQAAADwAAAA1AAAAMwAAADQAAAAqAAAAMgAAACMAAAAyAAAAPgAAACEAAAAkAAAAGgAAAF0AAAAkAAAAKwAAABoAAAA3AAAALgAAABkAAAAdAAAAQgAAABkAAAASAAAAFwAAAHYAAAAwAAAAIgAAACkAAAB1AAAAKQAAABYAAAAgAAAASwAAAC0AAAAxAAAAIAAAAHAAAAA6AAAAJwAAADgAAABfAAAAJgAAACcAAAAaAAAAdgAAACIAAAAwAAAAHAAAAC8AAAAhAAAAHgAAAB0AAABHAAAAIwAAABkAAAAgAAAAMAAAACAAAAAdAAAAGgAAAC4AAAAsAAAAGwAAABsAAAA9AAAAKgAAAB4AAAArAAAANgAAABkAAAAiAAAAGAAAAG0AAAA6AAAAIwAAACIAAABWAAAAJgAAACoAAAAeAAAAYQAAAC0AAAA4AAAAHAAAAGQAAAA5AAAAIAAAACIAAABVAAAAMQAAABwAAAAdAAAAfQAAADAAAAAlAAAAMAAAAD4AAAAfAAAAGQAAADYAAAA6AAAANwAAACIAAAAmAAAARQAAADIAAAA0AAAAHwAAAEkAAAAwAAAAJQAAADcAAAAUc3RjbwAAAAAAAAABAAAAMAAAAGJ1ZHRhAAAAWm1ldGEAAAAAAAAAIWhkbHIAAAAAAAAAAG1kaXJhcHBsAAAAAAAAAAAAAAAALWlsc3QAAAAlqXRvbwAAAB1kYXRhAAAAAQAAAABMYXZmNTcuODMuMTAw\" type=\"video/mp4\" />\n",
              "            </video>\n",
              "            "
            ],
            "text/plain": [
              "<IPython.core.display.HTML object>"
            ]
          },
          "metadata": {}
        }
      ]
    },
    {
      "cell_type": "markdown",
      "metadata": {
        "id": "r3hjRx1aC0VY"
      },
      "source": [
        "# Conclusion\n",
        "\n",
        "Thus in this Mini Project, we have observed the superior performance of Rainbow technique while solving the Cartpole problem and observed the performance of the model by rendering it on screen. It is interesting to observe the training curves and watching the model improve over time and plateau, with increase in training time. The end model is able to maintain the Cartpole balance as seen in the video above and we have learnt many interesting concepts about Reinforcement Learning in the process. "
      ]
    },
    {
      "cell_type": "code",
      "metadata": {
        "id": "Jewp5cIsH6It"
      },
      "source": [
        ""
      ],
      "execution_count": 14,
      "outputs": []
    }
  ]
}